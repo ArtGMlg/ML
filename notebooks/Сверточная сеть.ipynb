{
 "cells": [
  {
   "cell_type": "code",
   "execution_count": 1,
   "metadata": {},
   "outputs": [],
   "source": [
    "import numpy as np\n",
    "import cv2\n",
    "from scipy import ndimage\n",
    "from PIL import Image"
   ]
  },
  {
   "cell_type": "code",
   "execution_count": 6,
   "metadata": {},
   "outputs": [
    {
     "name": "stdout",
     "output_type": "stream",
     "text": [
      "[[[ 2.30186191e+00  6.40050321e-01  5.94788264e-01]\n",
      "  [-1.16105837e+00 -1.30626837e-01  3.54059770e-01]\n",
      "  [-1.40803546e-01  4.90576516e-01  5.11519667e-02]]\n",
      "\n",
      " [[-3.80921218e-01 -2.61311524e-01 -2.46846182e+01]\n",
      "  [ 2.44514088e-01  6.86844020e-01  4.99400224e+01]\n",
      "  [ 1.13640713e+00  5.74467504e-01 -2.42554042e+01]]\n",
      "\n",
      " [[ 1.28689223e+00 -9.98003209e-03  7.35666998e-01]\n",
      "  [ 2.35557065e+00  6.73133390e-01  1.76311616e-01]\n",
      "  [-2.64246287e+00  3.36846642e-01  8.80213856e-02]]\n",
      "\n",
      " [[ 1.03098225e+00 -2.16229206e-01  7.12689501e-01]\n",
      "  [ 1.93422672e-01  3.01120097e-01 -9.11793619e-01]\n",
      "  [-2.24404923e-01  9.15109109e-01  1.19910412e+00]]\n",
      "\n",
      " [[ 6.47252584e-01  1.22168913e+00 -4.80811492e-01]\n",
      "  [ 5.18205119e-01  1.98585017e-01 -9.60671586e-01]\n",
      "  [-1.65457703e-01 -4.20274143e-01  2.44148308e+00]]\n",
      "\n",
      " [[ 2.76222963e-01  6.73269027e-01  1.30784261e+00]\n",
      "  [ 5.59452808e-01 -6.35044532e-02 -6.14124668e-01]\n",
      "  [ 1.64324229e-01  3.90235426e-01  3.06282059e-01]]\n",
      "\n",
      " [[ 6.26245132e-01 -1.96563395e+01  5.15458604e-01]\n",
      "  [-6.74374305e-01 -3.24445027e+01  1.26467821e-01]\n",
      "  [ 1.04812917e+00  5.31008421e+01  3.58073575e-01]]\n",
      "\n",
      " [[ 3.72927779e-01  3.37561070e+00  1.51616631e+00]\n",
      "  [ 3.91980882e-01  8.32011743e-01 -2.10868712e+00]\n",
      "  [ 2.35091339e-01 -3.20762244e+00  1.59252082e+00]]\n",
      "\n",
      " [[ 8.23047226e-01  7.27450208e-01  2.99057700e-01]\n",
      "  [-1.18264480e+00  1.25898115e+00  3.56006014e-01]\n",
      "  [ 1.35959758e+00 -9.86431359e-01  3.44936286e-01]]\n",
      "\n",
      " [[ 2.02456248e-02  7.44529254e-01  1.41738346e+00]\n",
      "  [ 3.92776410e-01  3.27916176e-01 -1.38740638e+00]\n",
      "  [ 5.86977966e-01 -7.24454301e-02  9.70022925e-01]]]\n"
     ]
    }
   ],
   "source": [
    "import numpy as np\n",
    "\n",
    "n = 10 # количество ядер свертки\n",
    "window_size = 3 # размер окна свертки\n",
    "\n",
    "kernels = np.zeros((n, window_size, window_size))\n",
    "\n",
    "for i in range(n):\n",
    "    kernels[i] = np.random.randn(window_size, window_size)\n",
    "    kernels[i] /= sum(kernels[i])\n",
    "    \n",
    "print(kernels)\n"
   ]
  },
  {
   "cell_type": "code",
   "execution_count": 7,
   "metadata": {},
   "outputs": [],
   "source": [
    "img_src = np.array(Image.open('../data/data3/cats/0.jpg').resize((400, 200)), dtype=np.float64)"
   ]
  },
  {
   "cell_type": "code",
   "execution_count": 8,
   "metadata": {},
   "outputs": [],
   "source": [
    "img_src /= 255"
   ]
  },
  {
   "cell_type": "code",
   "execution_count": 7,
   "metadata": {},
   "outputs": [
    {
     "data": {
      "text/plain": [
       "array([[ 5.34117647,  5.36470588,  5.41176471, ...,  6.64242958,\n",
       "         6.10901643,  6.10265646],\n",
       "       [ 5.34117647,  5.36470588,  5.41176471, ...,  6.66994796,\n",
       "         7.10035281,  7.13856688],\n",
       "       [ 5.34117647,  5.36470588,  5.41176471, ...,  7.20623999,\n",
       "         6.65243095,  7.12671878],\n",
       "       ...,\n",
       "       [ 3.07597734,  3.29615043,  3.24560485, ...,  0.0676379 ,\n",
       "         0.0676379 ,  0.0676379 ],\n",
       "       [ 3.40266667,  3.36720169,  2.88768406, ..., -0.45128038,\n",
       "        -0.45128038, -0.45128038],\n",
       "       [ 3.36437547,  2.87300566,  3.37614018, ..., -0.29234668,\n",
       "        -0.29234668, -0.29234668]])"
      ]
     },
     "execution_count": 7,
     "metadata": {},
     "output_type": "execute_result"
    }
   ],
   "source": [
    "np.sum(cv2.filter2D(img_src, -1, kernels[0]), axis=2)"
   ]
  },
  {
   "cell_type": "code",
   "execution_count": 8,
   "metadata": {},
   "outputs": [],
   "source": [
    "cv2.imshow('res', cv2.filter2D(img_src, -1, np.array([[0.0, -1.0, 0.0], [-1.0, 4.0, -1.0], [0.0, -1.0, 0.0]])))\n",
    "\n",
    "cv2.waitKey(0)\n",
    "\n",
    "cv2.destroyAllWindows()"
   ]
  },
  {
   "cell_type": "code",
   "execution_count": 9,
   "metadata": {},
   "outputs": [],
   "source": [
    "filterred = np.zeros((n, img_src.shape[0], img_src.shape[1]))"
   ]
  },
  {
   "cell_type": "code",
   "execution_count": 10,
   "metadata": {},
   "outputs": [],
   "source": [
    "for num, kernel in enumerate(kernels):\n",
    "    filterred[num] = np.sum(cv2.filter2D(img_src, -1, kernel), axis=2)"
   ]
  },
  {
   "cell_type": "code",
   "execution_count": 11,
   "metadata": {},
   "outputs": [
    {
     "data": {
      "text/plain": [
       "(10, 200, 400)"
      ]
     },
     "execution_count": 11,
     "metadata": {},
     "output_type": "execute_result"
    }
   ],
   "source": [
    "filterred.shape"
   ]
  },
  {
   "cell_type": "code",
   "execution_count": 12,
   "metadata": {},
   "outputs": [],
   "source": [
    "b = np.zeros((200, 400))"
   ]
  },
  {
   "cell_type": "code",
   "execution_count": 13,
   "metadata": {},
   "outputs": [],
   "source": [
    "filterred += b"
   ]
  },
  {
   "cell_type": "code",
   "execution_count": 13,
   "metadata": {},
   "outputs": [],
   "source": [
    "def maxpooling(img, window_size, stride):\n",
    "    \"\"\"\n",
    "    img - двумерный массив размером (H, W)\n",
    "    window_size - длина стороны окна для пулинга\n",
    "    stride - шаг окна по горизонтали и вертикали\n",
    "    \"\"\"\n",
    "    H, W = img.shape\n",
    "\n",
    "    # Вычисляем размеры выходного изображения после max-пулинга\n",
    "    out_height = (H - window_size) // stride + 1\n",
    "    out_width = (W - window_size) // stride + 1\n",
    "\n",
    "    # Инициализируем массив для выходного изображения, заполняя его нулями\n",
    "    output = np.zeros((out_height, out_width), dtype=img.dtype)\n",
    "\n",
    "    # Проходимся по каждому окну и находим максимальный элемент\n",
    "    for i in range(out_height):\n",
    "        for j in range(out_width):\n",
    "            row_start = i * stride\n",
    "            row_end = row_start + window_size\n",
    "            col_start = j * stride\n",
    "            col_end = col_start + window_size\n",
    "            window = img[row_start:row_end, col_start:col_end]\n",
    "            output[i, j] = np.max(window)\n",
    "\n",
    "    return output\n"
   ]
  },
  {
   "cell_type": "code",
   "execution_count": 14,
   "metadata": {},
   "outputs": [],
   "source": [
    "import numpy as np\n",
    "\n",
    "def averagepooling(image, kernel_size, stride):\n",
    "    # Размеры изображения\n",
    "    input_dim_x, input_dim_y = image.shape\n",
    "    \n",
    "    # Размеры окна\n",
    "    kernel_dim_x, kernel_dim_y = kernel_size\n",
    "    \n",
    "    # Вычисляем размерность выходного изображения\n",
    "    output_dim_x = int((input_dim_x - kernel_dim_x) / stride + 1)\n",
    "    output_dim_y = int((input_dim_y - kernel_dim_y) / stride + 1)\n",
    "    \n",
    "    # Создаем выходной массив\n",
    "    output = np.zeros((output_dim_x, output_dim_y))\n",
    "    \n",
    "    # Применяем операцию пулинга к изображению\n",
    "    for i in range(output_dim_x):\n",
    "        for j in range(output_dim_y):\n",
    "            output[i, j] = np.mean(\n",
    "                image[i * stride : i * stride + kernel_dim_x, j * stride : j * stride + kernel_dim_y]\n",
    "            )\n",
    "    \n",
    "    return output\n"
   ]
  },
  {
   "cell_type": "code",
   "execution_count": 21,
   "metadata": {},
   "outputs": [],
   "source": [
    "pooled = []"
   ]
  },
  {
   "cell_type": "code",
   "execution_count": 22,
   "metadata": {},
   "outputs": [],
   "source": [
    "for num, im in enumerate(filterred):\n",
    "    # np.concatenate((pooled, averagepooling(im, (3, 3), 2)))\n",
    "    pooled.append(averagepooling(im, (3, 3), 2))"
   ]
  },
  {
   "cell_type": "code",
   "execution_count": 24,
   "metadata": {},
   "outputs": [],
   "source": [
    "res1 = np.array(pooled)"
   ]
  },
  {
   "cell_type": "code",
   "execution_count": null,
   "metadata": {},
   "outputs": [],
   "source": []
  }
 ],
 "metadata": {
  "kernelspec": {
   "display_name": "venv",
   "language": "python",
   "name": "python3"
  },
  "language_info": {
   "codemirror_mode": {
    "name": "ipython",
    "version": 3
   },
   "file_extension": ".py",
   "mimetype": "text/x-python",
   "name": "python",
   "nbconvert_exporter": "python",
   "pygments_lexer": "ipython3",
   "version": "3.10.11"
  },
  "orig_nbformat": 4
 },
 "nbformat": 4,
 "nbformat_minor": 2
}
