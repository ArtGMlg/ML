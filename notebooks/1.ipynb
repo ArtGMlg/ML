{
 "cells": [
  {
   "cell_type": "markdown",
   "id": "43dfc1f0",
   "metadata": {},
   "source": [
    "# Лабораторная работа 1. Введение в машинное обучение. Обучение с учителем. Задача регрессии"
   ]
  },
  {
   "cell_type": "markdown",
   "id": "af0b0580",
   "metadata": {},
   "source": [
    "<b>Традиционное предупреждение для всех лабораторных работ:</b> перед обучением моделей необходимо выполнить предварительную обработку данных, которая <b>обязательно</b> включает в себя:\n",
    "- заполнение пропущенных значений (рекомедуется логика заполнения пропусков на основе типа данных, которая использовалась в РГР по Практикуму);\n",
    "- преобразование категориальных признаков в числовые (используйте one-hot кодирование или map; используйте знания с Практикума)."
   ]
  },
  {
   "cell_type": "markdown",
   "id": "b08d9e23",
   "metadata": {},
   "source": [
    "Предобработка может включать в себя другие действия, но выполнение описанных выше действий обязательно."
   ]
  },
  {
   "cell_type": "markdown",
   "id": "05aab9d1",
   "metadata": {},
   "source": [
    "Сделайте это один раз и сохраните в отдельный csv файл, а потом его используйте."
   ]
  },
  {
   "cell_type": "markdown",
   "id": "e053af5b",
   "metadata": {},
   "source": [
    "<b>Выполните следующие задания:</b>\n",
    "- загрузите датасет для регрессии, выделите целевой признак и предикторы, разбейте данные на обучающую и тестовую выборку;\n",
    "- решите задачу регрессии на ваших данных с использованием моделей sklearn (линейная регрессия + L1, L2), для моделей с регуляризациями подберите гиперпараметр;\n",
    "- решите задачу регрессии на ваших данных с использованием моделей sklearn (полиномиальная регрессия + L1, L2), для моделей с регуляризациями подберите гиперпараметр;\n",
    "- вычислите значения метрик $R^2$, MAE, MSE, RMSE, MAPE для всех обученных моделей; выберите лучшую модель;\n",
    "- самостоятельно реализуйте (желательно в виде класса) модель линейной регрессии с регуляризацией (можете выбрать L1 или L2);\n",
    "- самостоятельно реализуйте вычисление всех используемых метрик (в виде функций, принимающих два аргумента);\n",
    "- обучите вашу модель линейной регрессии на ваших данных; оцените качество с помощью реализованных вами метрик."
   ]
  },
  {
   "attachments": {},
   "cell_type": "markdown",
   "id": "3f66926b",
   "metadata": {},
   "source": [
    "# Предобработка данных"
   ]
  },
  {
   "cell_type": "code",
   "execution_count": 1,
   "id": "f500beec",
   "metadata": {},
   "outputs": [],
   "source": [
    "import pandas as pd"
   ]
  },
  {
   "cell_type": "code",
   "execution_count": 2,
   "id": "bcc6dd16",
   "metadata": {},
   "outputs": [
    {
     "data": {
      "text/html": [
       "<div>\n",
       "<style scoped>\n",
       "    .dataframe tbody tr th:only-of-type {\n",
       "        vertical-align: middle;\n",
       "    }\n",
       "\n",
       "    .dataframe tbody tr th {\n",
       "        vertical-align: top;\n",
       "    }\n",
       "\n",
       "    .dataframe thead th {\n",
       "        text-align: right;\n",
       "    }\n",
       "</style>\n",
       "<table border=\"1\" class=\"dataframe\">\n",
       "  <thead>\n",
       "    <tr style=\"text-align: right;\">\n",
       "      <th></th>\n",
       "      <th>manufacturer_name</th>\n",
       "      <th>model_name</th>\n",
       "      <th>transmission</th>\n",
       "      <th>color</th>\n",
       "      <th>odometer_value</th>\n",
       "      <th>year_produced</th>\n",
       "      <th>engine_fuel</th>\n",
       "      <th>engine_has_gas</th>\n",
       "      <th>engine_type</th>\n",
       "      <th>engine_capacity</th>\n",
       "      <th>...</th>\n",
       "      <th>feature_1</th>\n",
       "      <th>feature_2</th>\n",
       "      <th>feature_3</th>\n",
       "      <th>feature_4</th>\n",
       "      <th>feature_5</th>\n",
       "      <th>feature_6</th>\n",
       "      <th>feature_7</th>\n",
       "      <th>feature_8</th>\n",
       "      <th>feature_9</th>\n",
       "      <th>duration_listed</th>\n",
       "    </tr>\n",
       "  </thead>\n",
       "  <tbody>\n",
       "    <tr>\n",
       "      <th>0</th>\n",
       "      <td>Subaru</td>\n",
       "      <td>Outback</td>\n",
       "      <td>automatic</td>\n",
       "      <td>silver</td>\n",
       "      <td>190000</td>\n",
       "      <td>2010</td>\n",
       "      <td>gasoline</td>\n",
       "      <td>False</td>\n",
       "      <td>gasoline</td>\n",
       "      <td>2.5</td>\n",
       "      <td>...</td>\n",
       "      <td>True</td>\n",
       "      <td>True</td>\n",
       "      <td>True</td>\n",
       "      <td>False</td>\n",
       "      <td>True</td>\n",
       "      <td>False</td>\n",
       "      <td>True</td>\n",
       "      <td>True</td>\n",
       "      <td>True</td>\n",
       "      <td>16</td>\n",
       "    </tr>\n",
       "    <tr>\n",
       "      <th>1</th>\n",
       "      <td>Subaru</td>\n",
       "      <td>Outback</td>\n",
       "      <td>automatic</td>\n",
       "      <td>blue</td>\n",
       "      <td>290000</td>\n",
       "      <td>2002</td>\n",
       "      <td>gasoline</td>\n",
       "      <td>False</td>\n",
       "      <td>gasoline</td>\n",
       "      <td>3.0</td>\n",
       "      <td>...</td>\n",
       "      <td>True</td>\n",
       "      <td>False</td>\n",
       "      <td>False</td>\n",
       "      <td>True</td>\n",
       "      <td>True</td>\n",
       "      <td>False</td>\n",
       "      <td>False</td>\n",
       "      <td>False</td>\n",
       "      <td>True</td>\n",
       "      <td>83</td>\n",
       "    </tr>\n",
       "    <tr>\n",
       "      <th>2</th>\n",
       "      <td>Subaru</td>\n",
       "      <td>Forester</td>\n",
       "      <td>automatic</td>\n",
       "      <td>red</td>\n",
       "      <td>402000</td>\n",
       "      <td>2001</td>\n",
       "      <td>gasoline</td>\n",
       "      <td>False</td>\n",
       "      <td>gasoline</td>\n",
       "      <td>2.5</td>\n",
       "      <td>...</td>\n",
       "      <td>True</td>\n",
       "      <td>False</td>\n",
       "      <td>False</td>\n",
       "      <td>False</td>\n",
       "      <td>False</td>\n",
       "      <td>False</td>\n",
       "      <td>False</td>\n",
       "      <td>True</td>\n",
       "      <td>True</td>\n",
       "      <td>151</td>\n",
       "    </tr>\n",
       "    <tr>\n",
       "      <th>3</th>\n",
       "      <td>Subaru</td>\n",
       "      <td>Impreza</td>\n",
       "      <td>mechanical</td>\n",
       "      <td>blue</td>\n",
       "      <td>10000</td>\n",
       "      <td>1999</td>\n",
       "      <td>gasoline</td>\n",
       "      <td>False</td>\n",
       "      <td>gasoline</td>\n",
       "      <td>3.0</td>\n",
       "      <td>...</td>\n",
       "      <td>False</td>\n",
       "      <td>False</td>\n",
       "      <td>False</td>\n",
       "      <td>False</td>\n",
       "      <td>False</td>\n",
       "      <td>False</td>\n",
       "      <td>False</td>\n",
       "      <td>False</td>\n",
       "      <td>False</td>\n",
       "      <td>86</td>\n",
       "    </tr>\n",
       "    <tr>\n",
       "      <th>4</th>\n",
       "      <td>Subaru</td>\n",
       "      <td>Legacy</td>\n",
       "      <td>automatic</td>\n",
       "      <td>black</td>\n",
       "      <td>280000</td>\n",
       "      <td>2001</td>\n",
       "      <td>gasoline</td>\n",
       "      <td>False</td>\n",
       "      <td>gasoline</td>\n",
       "      <td>2.5</td>\n",
       "      <td>...</td>\n",
       "      <td>True</td>\n",
       "      <td>False</td>\n",
       "      <td>True</td>\n",
       "      <td>True</td>\n",
       "      <td>False</td>\n",
       "      <td>False</td>\n",
       "      <td>False</td>\n",
       "      <td>False</td>\n",
       "      <td>True</td>\n",
       "      <td>7</td>\n",
       "    </tr>\n",
       "    <tr>\n",
       "      <th>...</th>\n",
       "      <td>...</td>\n",
       "      <td>...</td>\n",
       "      <td>...</td>\n",
       "      <td>...</td>\n",
       "      <td>...</td>\n",
       "      <td>...</td>\n",
       "      <td>...</td>\n",
       "      <td>...</td>\n",
       "      <td>...</td>\n",
       "      <td>...</td>\n",
       "      <td>...</td>\n",
       "      <td>...</td>\n",
       "      <td>...</td>\n",
       "      <td>...</td>\n",
       "      <td>...</td>\n",
       "      <td>...</td>\n",
       "      <td>...</td>\n",
       "      <td>...</td>\n",
       "      <td>...</td>\n",
       "      <td>...</td>\n",
       "      <td>...</td>\n",
       "    </tr>\n",
       "    <tr>\n",
       "      <th>38526</th>\n",
       "      <td>Chrysler</td>\n",
       "      <td>300</td>\n",
       "      <td>automatic</td>\n",
       "      <td>silver</td>\n",
       "      <td>290000</td>\n",
       "      <td>2000</td>\n",
       "      <td>gasoline</td>\n",
       "      <td>False</td>\n",
       "      <td>gasoline</td>\n",
       "      <td>3.5</td>\n",
       "      <td>...</td>\n",
       "      <td>True</td>\n",
       "      <td>False</td>\n",
       "      <td>False</td>\n",
       "      <td>True</td>\n",
       "      <td>True</td>\n",
       "      <td>False</td>\n",
       "      <td>False</td>\n",
       "      <td>True</td>\n",
       "      <td>True</td>\n",
       "      <td>301</td>\n",
       "    </tr>\n",
       "    <tr>\n",
       "      <th>38527</th>\n",
       "      <td>Chrysler</td>\n",
       "      <td>PT Cruiser</td>\n",
       "      <td>mechanical</td>\n",
       "      <td>blue</td>\n",
       "      <td>321000</td>\n",
       "      <td>2004</td>\n",
       "      <td>diesel</td>\n",
       "      <td>False</td>\n",
       "      <td>diesel</td>\n",
       "      <td>2.2</td>\n",
       "      <td>...</td>\n",
       "      <td>True</td>\n",
       "      <td>False</td>\n",
       "      <td>False</td>\n",
       "      <td>True</td>\n",
       "      <td>True</td>\n",
       "      <td>False</td>\n",
       "      <td>False</td>\n",
       "      <td>True</td>\n",
       "      <td>True</td>\n",
       "      <td>317</td>\n",
       "    </tr>\n",
       "    <tr>\n",
       "      <th>38528</th>\n",
       "      <td>Chrysler</td>\n",
       "      <td>300</td>\n",
       "      <td>automatic</td>\n",
       "      <td>blue</td>\n",
       "      <td>777957</td>\n",
       "      <td>2000</td>\n",
       "      <td>gasoline</td>\n",
       "      <td>False</td>\n",
       "      <td>gasoline</td>\n",
       "      <td>3.5</td>\n",
       "      <td>...</td>\n",
       "      <td>True</td>\n",
       "      <td>False</td>\n",
       "      <td>False</td>\n",
       "      <td>True</td>\n",
       "      <td>True</td>\n",
       "      <td>False</td>\n",
       "      <td>False</td>\n",
       "      <td>True</td>\n",
       "      <td>True</td>\n",
       "      <td>369</td>\n",
       "    </tr>\n",
       "    <tr>\n",
       "      <th>38529</th>\n",
       "      <td>Chrysler</td>\n",
       "      <td>PT Cruiser</td>\n",
       "      <td>mechanical</td>\n",
       "      <td>black</td>\n",
       "      <td>20000</td>\n",
       "      <td>2001</td>\n",
       "      <td>gasoline</td>\n",
       "      <td>False</td>\n",
       "      <td>gasoline</td>\n",
       "      <td>2.0</td>\n",
       "      <td>...</td>\n",
       "      <td>True</td>\n",
       "      <td>False</td>\n",
       "      <td>False</td>\n",
       "      <td>False</td>\n",
       "      <td>False</td>\n",
       "      <td>False</td>\n",
       "      <td>False</td>\n",
       "      <td>False</td>\n",
       "      <td>True</td>\n",
       "      <td>490</td>\n",
       "    </tr>\n",
       "    <tr>\n",
       "      <th>38530</th>\n",
       "      <td>Chrysler</td>\n",
       "      <td>Voyager</td>\n",
       "      <td>automatic</td>\n",
       "      <td>silver</td>\n",
       "      <td>297729</td>\n",
       "      <td>2000</td>\n",
       "      <td>gasoline</td>\n",
       "      <td>False</td>\n",
       "      <td>gasoline</td>\n",
       "      <td>2.4</td>\n",
       "      <td>...</td>\n",
       "      <td>False</td>\n",
       "      <td>False</td>\n",
       "      <td>False</td>\n",
       "      <td>False</td>\n",
       "      <td>False</td>\n",
       "      <td>False</td>\n",
       "      <td>False</td>\n",
       "      <td>False</td>\n",
       "      <td>True</td>\n",
       "      <td>632</td>\n",
       "    </tr>\n",
       "  </tbody>\n",
       "</table>\n",
       "<p>38531 rows × 30 columns</p>\n",
       "</div>"
      ],
      "text/plain": [
       "      manufacturer_name  model_name transmission   color  odometer_value  \\\n",
       "0                Subaru     Outback    automatic  silver          190000   \n",
       "1                Subaru     Outback    automatic    blue          290000   \n",
       "2                Subaru    Forester    automatic     red          402000   \n",
       "3                Subaru     Impreza   mechanical    blue           10000   \n",
       "4                Subaru      Legacy    automatic   black          280000   \n",
       "...                 ...         ...          ...     ...             ...   \n",
       "38526          Chrysler         300    automatic  silver          290000   \n",
       "38527          Chrysler  PT Cruiser   mechanical    blue          321000   \n",
       "38528          Chrysler         300    automatic    blue          777957   \n",
       "38529          Chrysler  PT Cruiser   mechanical   black           20000   \n",
       "38530          Chrysler     Voyager    automatic  silver          297729   \n",
       "\n",
       "       year_produced engine_fuel  engine_has_gas engine_type  engine_capacity  \\\n",
       "0               2010    gasoline           False    gasoline              2.5   \n",
       "1               2002    gasoline           False    gasoline              3.0   \n",
       "2               2001    gasoline           False    gasoline              2.5   \n",
       "3               1999    gasoline           False    gasoline              3.0   \n",
       "4               2001    gasoline           False    gasoline              2.5   \n",
       "...              ...         ...             ...         ...              ...   \n",
       "38526           2000    gasoline           False    gasoline              3.5   \n",
       "38527           2004      diesel           False      diesel              2.2   \n",
       "38528           2000    gasoline           False    gasoline              3.5   \n",
       "38529           2001    gasoline           False    gasoline              2.0   \n",
       "38530           2000    gasoline           False    gasoline              2.4   \n",
       "\n",
       "       ... feature_1  feature_2 feature_3 feature_4  feature_5  feature_6  \\\n",
       "0      ...      True       True      True     False       True      False   \n",
       "1      ...      True      False     False      True       True      False   \n",
       "2      ...      True      False     False     False      False      False   \n",
       "3      ...     False      False     False     False      False      False   \n",
       "4      ...      True      False      True      True      False      False   \n",
       "...    ...       ...        ...       ...       ...        ...        ...   \n",
       "38526  ...      True      False     False      True       True      False   \n",
       "38527  ...      True      False     False      True       True      False   \n",
       "38528  ...      True      False     False      True       True      False   \n",
       "38529  ...      True      False     False     False      False      False   \n",
       "38530  ...     False      False     False     False      False      False   \n",
       "\n",
       "      feature_7  feature_8  feature_9  duration_listed  \n",
       "0          True       True       True               16  \n",
       "1         False      False       True               83  \n",
       "2         False       True       True              151  \n",
       "3         False      False      False               86  \n",
       "4         False      False       True                7  \n",
       "...         ...        ...        ...              ...  \n",
       "38526     False       True       True              301  \n",
       "38527     False       True       True              317  \n",
       "38528     False       True       True              369  \n",
       "38529     False      False       True              490  \n",
       "38530     False      False       True              632  \n",
       "\n",
       "[38531 rows x 30 columns]"
      ]
     },
     "execution_count": 2,
     "metadata": {},
     "output_type": "execute_result"
    }
   ],
   "source": [
    "data = pd.read_csv('../data/cars.csv')\n",
    "data"
   ]
  },
  {
   "cell_type": "code",
   "execution_count": 3,
   "id": "139259a1",
   "metadata": {},
   "outputs": [
    {
     "data": {
      "text/plain": [
       "manufacturer_name    False\n",
       "model_name           False\n",
       "transmission         False\n",
       "color                False\n",
       "odometer_value       False\n",
       "year_produced        False\n",
       "engine_fuel          False\n",
       "engine_has_gas       False\n",
       "engine_type          False\n",
       "engine_capacity       True\n",
       "body_type            False\n",
       "has_warranty         False\n",
       "state                False\n",
       "drivetrain           False\n",
       "price_usd            False\n",
       "is_exchangeable      False\n",
       "location_region      False\n",
       "number_of_photos     False\n",
       "up_counter           False\n",
       "feature_0            False\n",
       "feature_1            False\n",
       "feature_2            False\n",
       "feature_3            False\n",
       "feature_4            False\n",
       "feature_5            False\n",
       "feature_6            False\n",
       "feature_7            False\n",
       "feature_8            False\n",
       "feature_9            False\n",
       "duration_listed      False\n",
       "dtype: bool"
      ]
     },
     "execution_count": 3,
     "metadata": {},
     "output_type": "execute_result"
    }
   ],
   "source": [
    "data.isnull().any()"
   ]
  },
  {
   "cell_type": "code",
   "execution_count": 4,
   "id": "c618c8dc",
   "metadata": {},
   "outputs": [],
   "source": [
    "data['engine_capacity'].fillna(data['engine_capacity'].mean(), inplace=True)"
   ]
  },
  {
   "cell_type": "code",
   "execution_count": 5,
   "id": "fb991e47",
   "metadata": {},
   "outputs": [
    {
     "data": {
      "text/plain": [
       "manufacturer_name    False\n",
       "model_name           False\n",
       "transmission         False\n",
       "color                False\n",
       "odometer_value       False\n",
       "year_produced        False\n",
       "engine_fuel          False\n",
       "engine_has_gas       False\n",
       "engine_type          False\n",
       "engine_capacity      False\n",
       "body_type            False\n",
       "has_warranty         False\n",
       "state                False\n",
       "drivetrain           False\n",
       "price_usd            False\n",
       "is_exchangeable      False\n",
       "location_region      False\n",
       "number_of_photos     False\n",
       "up_counter           False\n",
       "feature_0            False\n",
       "feature_1            False\n",
       "feature_2            False\n",
       "feature_3            False\n",
       "feature_4            False\n",
       "feature_5            False\n",
       "feature_6            False\n",
       "feature_7            False\n",
       "feature_8            False\n",
       "feature_9            False\n",
       "duration_listed      False\n",
       "dtype: bool"
      ]
     },
     "execution_count": 5,
     "metadata": {},
     "output_type": "execute_result"
    }
   ],
   "source": [
    "data.isnull().any()"
   ]
  },
  {
   "cell_type": "code",
   "execution_count": 6,
   "id": "40b13a47",
   "metadata": {},
   "outputs": [],
   "source": [
    "data.drop_duplicates(inplace=True)"
   ]
  },
  {
   "cell_type": "code",
   "execution_count": 7,
   "id": "40b27997",
   "metadata": {},
   "outputs": [
    {
     "name": "stdout",
     "output_type": "stream",
     "text": [
      "<class 'pandas.core.frame.DataFrame'>\n",
      "Int64Index: 38491 entries, 0 to 38530\n",
      "Data columns (total 30 columns):\n",
      " #   Column             Non-Null Count  Dtype  \n",
      "---  ------             --------------  -----  \n",
      " 0   manufacturer_name  38491 non-null  object \n",
      " 1   model_name         38491 non-null  object \n",
      " 2   transmission       38491 non-null  object \n",
      " 3   color              38491 non-null  object \n",
      " 4   odometer_value     38491 non-null  int64  \n",
      " 5   year_produced      38491 non-null  int64  \n",
      " 6   engine_fuel        38491 non-null  object \n",
      " 7   engine_has_gas     38491 non-null  bool   \n",
      " 8   engine_type        38491 non-null  object \n",
      " 9   engine_capacity    38491 non-null  float64\n",
      " 10  body_type          38491 non-null  object \n",
      " 11  has_warranty       38491 non-null  bool   \n",
      " 12  state              38491 non-null  object \n",
      " 13  drivetrain         38491 non-null  object \n",
      " 14  price_usd          38491 non-null  float64\n",
      " 15  is_exchangeable    38491 non-null  bool   \n",
      " 16  location_region    38491 non-null  object \n",
      " 17  number_of_photos   38491 non-null  int64  \n",
      " 18  up_counter         38491 non-null  int64  \n",
      " 19  feature_0          38491 non-null  bool   \n",
      " 20  feature_1          38491 non-null  bool   \n",
      " 21  feature_2          38491 non-null  bool   \n",
      " 22  feature_3          38491 non-null  bool   \n",
      " 23  feature_4          38491 non-null  bool   \n",
      " 24  feature_5          38491 non-null  bool   \n",
      " 25  feature_6          38491 non-null  bool   \n",
      " 26  feature_7          38491 non-null  bool   \n",
      " 27  feature_8          38491 non-null  bool   \n",
      " 28  feature_9          38491 non-null  bool   \n",
      " 29  duration_listed    38491 non-null  int64  \n",
      "dtypes: bool(13), float64(2), int64(5), object(10)\n",
      "memory usage: 5.8+ MB\n"
     ]
    }
   ],
   "source": [
    "data.info()"
   ]
  },
  {
   "cell_type": "code",
   "execution_count": 8,
   "id": "d3ad08f4",
   "metadata": {},
   "outputs": [
    {
     "data": {
      "text/html": [
       "<div>\n",
       "<style scoped>\n",
       "    .dataframe tbody tr th:only-of-type {\n",
       "        vertical-align: middle;\n",
       "    }\n",
       "\n",
       "    .dataframe tbody tr th {\n",
       "        vertical-align: top;\n",
       "    }\n",
       "\n",
       "    .dataframe thead th {\n",
       "        text-align: right;\n",
       "    }\n",
       "</style>\n",
       "<table border=\"1\" class=\"dataframe\">\n",
       "  <thead>\n",
       "    <tr style=\"text-align: right;\">\n",
       "      <th></th>\n",
       "      <th>manufacturer_name</th>\n",
       "      <th>model_name</th>\n",
       "      <th>color</th>\n",
       "      <th>odometer_value</th>\n",
       "      <th>year_produced</th>\n",
       "      <th>engine_capacity</th>\n",
       "      <th>price_usd</th>\n",
       "      <th>number_of_photos</th>\n",
       "      <th>up_counter</th>\n",
       "      <th>duration_listed</th>\n",
       "      <th>...</th>\n",
       "      <th>feature_0_True</th>\n",
       "      <th>feature_1_True</th>\n",
       "      <th>feature_2_True</th>\n",
       "      <th>feature_3_True</th>\n",
       "      <th>feature_4_True</th>\n",
       "      <th>feature_5_True</th>\n",
       "      <th>feature_6_True</th>\n",
       "      <th>feature_7_True</th>\n",
       "      <th>feature_8_True</th>\n",
       "      <th>feature_9_True</th>\n",
       "    </tr>\n",
       "  </thead>\n",
       "  <tbody>\n",
       "    <tr>\n",
       "      <th>0</th>\n",
       "      <td>Subaru</td>\n",
       "      <td>Outback</td>\n",
       "      <td>silver</td>\n",
       "      <td>190000</td>\n",
       "      <td>2010</td>\n",
       "      <td>2.5</td>\n",
       "      <td>10900.00</td>\n",
       "      <td>9</td>\n",
       "      <td>13</td>\n",
       "      <td>16</td>\n",
       "      <td>...</td>\n",
       "      <td>0</td>\n",
       "      <td>1</td>\n",
       "      <td>1</td>\n",
       "      <td>1</td>\n",
       "      <td>0</td>\n",
       "      <td>1</td>\n",
       "      <td>0</td>\n",
       "      <td>1</td>\n",
       "      <td>1</td>\n",
       "      <td>1</td>\n",
       "    </tr>\n",
       "    <tr>\n",
       "      <th>1</th>\n",
       "      <td>Subaru</td>\n",
       "      <td>Outback</td>\n",
       "      <td>blue</td>\n",
       "      <td>290000</td>\n",
       "      <td>2002</td>\n",
       "      <td>3.0</td>\n",
       "      <td>5000.00</td>\n",
       "      <td>12</td>\n",
       "      <td>54</td>\n",
       "      <td>83</td>\n",
       "      <td>...</td>\n",
       "      <td>0</td>\n",
       "      <td>1</td>\n",
       "      <td>0</td>\n",
       "      <td>0</td>\n",
       "      <td>1</td>\n",
       "      <td>1</td>\n",
       "      <td>0</td>\n",
       "      <td>0</td>\n",
       "      <td>0</td>\n",
       "      <td>1</td>\n",
       "    </tr>\n",
       "    <tr>\n",
       "      <th>2</th>\n",
       "      <td>Subaru</td>\n",
       "      <td>Forester</td>\n",
       "      <td>red</td>\n",
       "      <td>402000</td>\n",
       "      <td>2001</td>\n",
       "      <td>2.5</td>\n",
       "      <td>2800.00</td>\n",
       "      <td>4</td>\n",
       "      <td>72</td>\n",
       "      <td>151</td>\n",
       "      <td>...</td>\n",
       "      <td>0</td>\n",
       "      <td>1</td>\n",
       "      <td>0</td>\n",
       "      <td>0</td>\n",
       "      <td>0</td>\n",
       "      <td>0</td>\n",
       "      <td>0</td>\n",
       "      <td>0</td>\n",
       "      <td>1</td>\n",
       "      <td>1</td>\n",
       "    </tr>\n",
       "    <tr>\n",
       "      <th>3</th>\n",
       "      <td>Subaru</td>\n",
       "      <td>Impreza</td>\n",
       "      <td>blue</td>\n",
       "      <td>10000</td>\n",
       "      <td>1999</td>\n",
       "      <td>3.0</td>\n",
       "      <td>9999.00</td>\n",
       "      <td>9</td>\n",
       "      <td>42</td>\n",
       "      <td>86</td>\n",
       "      <td>...</td>\n",
       "      <td>1</td>\n",
       "      <td>0</td>\n",
       "      <td>0</td>\n",
       "      <td>0</td>\n",
       "      <td>0</td>\n",
       "      <td>0</td>\n",
       "      <td>0</td>\n",
       "      <td>0</td>\n",
       "      <td>0</td>\n",
       "      <td>0</td>\n",
       "    </tr>\n",
       "    <tr>\n",
       "      <th>4</th>\n",
       "      <td>Subaru</td>\n",
       "      <td>Legacy</td>\n",
       "      <td>black</td>\n",
       "      <td>280000</td>\n",
       "      <td>2001</td>\n",
       "      <td>2.5</td>\n",
       "      <td>2134.11</td>\n",
       "      <td>14</td>\n",
       "      <td>7</td>\n",
       "      <td>7</td>\n",
       "      <td>...</td>\n",
       "      <td>0</td>\n",
       "      <td>1</td>\n",
       "      <td>0</td>\n",
       "      <td>1</td>\n",
       "      <td>1</td>\n",
       "      <td>0</td>\n",
       "      <td>0</td>\n",
       "      <td>0</td>\n",
       "      <td>0</td>\n",
       "      <td>1</td>\n",
       "    </tr>\n",
       "    <tr>\n",
       "      <th>...</th>\n",
       "      <td>...</td>\n",
       "      <td>...</td>\n",
       "      <td>...</td>\n",
       "      <td>...</td>\n",
       "      <td>...</td>\n",
       "      <td>...</td>\n",
       "      <td>...</td>\n",
       "      <td>...</td>\n",
       "      <td>...</td>\n",
       "      <td>...</td>\n",
       "      <td>...</td>\n",
       "      <td>...</td>\n",
       "      <td>...</td>\n",
       "      <td>...</td>\n",
       "      <td>...</td>\n",
       "      <td>...</td>\n",
       "      <td>...</td>\n",
       "      <td>...</td>\n",
       "      <td>...</td>\n",
       "      <td>...</td>\n",
       "      <td>...</td>\n",
       "    </tr>\n",
       "    <tr>\n",
       "      <th>38526</th>\n",
       "      <td>Chrysler</td>\n",
       "      <td>300</td>\n",
       "      <td>silver</td>\n",
       "      <td>290000</td>\n",
       "      <td>2000</td>\n",
       "      <td>3.5</td>\n",
       "      <td>2750.00</td>\n",
       "      <td>5</td>\n",
       "      <td>85</td>\n",
       "      <td>301</td>\n",
       "      <td>...</td>\n",
       "      <td>0</td>\n",
       "      <td>1</td>\n",
       "      <td>0</td>\n",
       "      <td>0</td>\n",
       "      <td>1</td>\n",
       "      <td>1</td>\n",
       "      <td>0</td>\n",
       "      <td>0</td>\n",
       "      <td>1</td>\n",
       "      <td>1</td>\n",
       "    </tr>\n",
       "    <tr>\n",
       "      <th>38527</th>\n",
       "      <td>Chrysler</td>\n",
       "      <td>PT Cruiser</td>\n",
       "      <td>blue</td>\n",
       "      <td>321000</td>\n",
       "      <td>2004</td>\n",
       "      <td>2.2</td>\n",
       "      <td>4800.00</td>\n",
       "      <td>4</td>\n",
       "      <td>20</td>\n",
       "      <td>317</td>\n",
       "      <td>...</td>\n",
       "      <td>0</td>\n",
       "      <td>1</td>\n",
       "      <td>0</td>\n",
       "      <td>0</td>\n",
       "      <td>1</td>\n",
       "      <td>1</td>\n",
       "      <td>0</td>\n",
       "      <td>0</td>\n",
       "      <td>1</td>\n",
       "      <td>1</td>\n",
       "    </tr>\n",
       "    <tr>\n",
       "      <th>38528</th>\n",
       "      <td>Chrysler</td>\n",
       "      <td>300</td>\n",
       "      <td>blue</td>\n",
       "      <td>777957</td>\n",
       "      <td>2000</td>\n",
       "      <td>3.5</td>\n",
       "      <td>4300.00</td>\n",
       "      <td>3</td>\n",
       "      <td>63</td>\n",
       "      <td>369</td>\n",
       "      <td>...</td>\n",
       "      <td>0</td>\n",
       "      <td>1</td>\n",
       "      <td>0</td>\n",
       "      <td>0</td>\n",
       "      <td>1</td>\n",
       "      <td>1</td>\n",
       "      <td>0</td>\n",
       "      <td>0</td>\n",
       "      <td>1</td>\n",
       "      <td>1</td>\n",
       "    </tr>\n",
       "    <tr>\n",
       "      <th>38529</th>\n",
       "      <td>Chrysler</td>\n",
       "      <td>PT Cruiser</td>\n",
       "      <td>black</td>\n",
       "      <td>20000</td>\n",
       "      <td>2001</td>\n",
       "      <td>2.0</td>\n",
       "      <td>4000.00</td>\n",
       "      <td>7</td>\n",
       "      <td>156</td>\n",
       "      <td>490</td>\n",
       "      <td>...</td>\n",
       "      <td>0</td>\n",
       "      <td>1</td>\n",
       "      <td>0</td>\n",
       "      <td>0</td>\n",
       "      <td>0</td>\n",
       "      <td>0</td>\n",
       "      <td>0</td>\n",
       "      <td>0</td>\n",
       "      <td>0</td>\n",
       "      <td>1</td>\n",
       "    </tr>\n",
       "    <tr>\n",
       "      <th>38530</th>\n",
       "      <td>Chrysler</td>\n",
       "      <td>Voyager</td>\n",
       "      <td>silver</td>\n",
       "      <td>297729</td>\n",
       "      <td>2000</td>\n",
       "      <td>2.4</td>\n",
       "      <td>3200.00</td>\n",
       "      <td>4</td>\n",
       "      <td>73</td>\n",
       "      <td>632</td>\n",
       "      <td>...</td>\n",
       "      <td>0</td>\n",
       "      <td>0</td>\n",
       "      <td>0</td>\n",
       "      <td>0</td>\n",
       "      <td>0</td>\n",
       "      <td>0</td>\n",
       "      <td>0</td>\n",
       "      <td>0</td>\n",
       "      <td>0</td>\n",
       "      <td>1</td>\n",
       "    </tr>\n",
       "  </tbody>\n",
       "</table>\n",
       "<p>38491 rows × 51 columns</p>\n",
       "</div>"
      ],
      "text/plain": [
       "      manufacturer_name  model_name   color  odometer_value  year_produced  \\\n",
       "0                Subaru     Outback  silver          190000           2010   \n",
       "1                Subaru     Outback    blue          290000           2002   \n",
       "2                Subaru    Forester     red          402000           2001   \n",
       "3                Subaru     Impreza    blue           10000           1999   \n",
       "4                Subaru      Legacy   black          280000           2001   \n",
       "...                 ...         ...     ...             ...            ...   \n",
       "38526          Chrysler         300  silver          290000           2000   \n",
       "38527          Chrysler  PT Cruiser    blue          321000           2004   \n",
       "38528          Chrysler         300    blue          777957           2000   \n",
       "38529          Chrysler  PT Cruiser   black           20000           2001   \n",
       "38530          Chrysler     Voyager  silver          297729           2000   \n",
       "\n",
       "       engine_capacity  price_usd  number_of_photos  up_counter  \\\n",
       "0                  2.5   10900.00                 9          13   \n",
       "1                  3.0    5000.00                12          54   \n",
       "2                  2.5    2800.00                 4          72   \n",
       "3                  3.0    9999.00                 9          42   \n",
       "4                  2.5    2134.11                14           7   \n",
       "...                ...        ...               ...         ...   \n",
       "38526              3.5    2750.00                 5          85   \n",
       "38527              2.2    4800.00                 4          20   \n",
       "38528              3.5    4300.00                 3          63   \n",
       "38529              2.0    4000.00                 7         156   \n",
       "38530              2.4    3200.00                 4          73   \n",
       "\n",
       "       duration_listed  ...  feature_0_True  feature_1_True  feature_2_True  \\\n",
       "0                   16  ...               0               1               1   \n",
       "1                   83  ...               0               1               0   \n",
       "2                  151  ...               0               1               0   \n",
       "3                   86  ...               1               0               0   \n",
       "4                    7  ...               0               1               0   \n",
       "...                ...  ...             ...             ...             ...   \n",
       "38526              301  ...               0               1               0   \n",
       "38527              317  ...               0               1               0   \n",
       "38528              369  ...               0               1               0   \n",
       "38529              490  ...               0               1               0   \n",
       "38530              632  ...               0               0               0   \n",
       "\n",
       "       feature_3_True  feature_4_True  feature_5_True  feature_6_True  \\\n",
       "0                   1               0               1               0   \n",
       "1                   0               1               1               0   \n",
       "2                   0               0               0               0   \n",
       "3                   0               0               0               0   \n",
       "4                   1               1               0               0   \n",
       "...               ...             ...             ...             ...   \n",
       "38526               0               1               1               0   \n",
       "38527               0               1               1               0   \n",
       "38528               0               1               1               0   \n",
       "38529               0               0               0               0   \n",
       "38530               0               0               0               0   \n",
       "\n",
       "       feature_7_True  feature_8_True  feature_9_True  \n",
       "0                   1               1               1  \n",
       "1                   0               0               1  \n",
       "2                   0               1               1  \n",
       "3                   0               0               0  \n",
       "4                   0               0               1  \n",
       "...               ...             ...             ...  \n",
       "38526               0               1               1  \n",
       "38527               0               1               1  \n",
       "38528               0               1               1  \n",
       "38529               0               0               1  \n",
       "38530               0               0               1  \n",
       "\n",
       "[38491 rows x 51 columns]"
      ]
     },
     "execution_count": 8,
     "metadata": {},
     "output_type": "execute_result"
    }
   ],
   "source": [
    "dum_data = pd.get_dummies(data, columns=['transmission', 'engine_type', 'has_warranty', 'is_exchangeable', 'engine_has_gas', 'body_type', 'state', 'engine_fuel', 'drivetrain', 'location_region', 'feature_0', 'feature_1', 'feature_2', 'feature_3', 'feature_4', 'feature_5', 'feature_6', 'feature_7', 'feature_8', 'feature_9'], drop_first=True)\n",
    "dum_data"
   ]
  },
  {
   "cell_type": "code",
   "execution_count": 9,
   "id": "bc90f9bb",
   "metadata": {},
   "outputs": [],
   "source": [
    "dum_data.drop(['manufacturer_name', 'model_name', 'number_of_photos', 'color', 'up_counter'], axis=1, inplace=True)"
   ]
  },
  {
   "cell_type": "code",
   "execution_count": 10,
   "id": "f09017c6",
   "metadata": {},
   "outputs": [],
   "source": [
    "dum_data.to_csv('../data/dum_data.csv')"
   ]
  },
  {
   "attachments": {},
   "cell_type": "markdown",
   "id": "8beb0045",
   "metadata": {},
   "source": [
    "# Разбиение данных на тренировочную и тестовую выборки"
   ]
  },
  {
   "cell_type": "code",
   "execution_count": 11,
   "id": "10cb3212",
   "metadata": {},
   "outputs": [],
   "source": [
    "y = dum_data['price_usd']\n",
    "X = dum_data.drop(['price_usd'], axis=1)"
   ]
  },
  {
   "cell_type": "code",
   "execution_count": 12,
   "id": "b1d8eb4c",
   "metadata": {},
   "outputs": [
    {
     "data": {
      "text/plain": [
       "0        10900.00\n",
       "1         5000.00\n",
       "2         2800.00\n",
       "3         9999.00\n",
       "4         2134.11\n",
       "           ...   \n",
       "38526     2750.00\n",
       "38527     4800.00\n",
       "38528     4300.00\n",
       "38529     4000.00\n",
       "38530     3200.00\n",
       "Name: price_usd, Length: 38491, dtype: float64"
      ]
     },
     "execution_count": 12,
     "metadata": {},
     "output_type": "execute_result"
    }
   ],
   "source": [
    "y"
   ]
  },
  {
   "cell_type": "code",
   "execution_count": 13,
   "id": "2bea3988",
   "metadata": {},
   "outputs": [
    {
     "data": {
      "text/html": [
       "<div>\n",
       "<style scoped>\n",
       "    .dataframe tbody tr th:only-of-type {\n",
       "        vertical-align: middle;\n",
       "    }\n",
       "\n",
       "    .dataframe tbody tr th {\n",
       "        vertical-align: top;\n",
       "    }\n",
       "\n",
       "    .dataframe thead th {\n",
       "        text-align: right;\n",
       "    }\n",
       "</style>\n",
       "<table border=\"1\" class=\"dataframe\">\n",
       "  <thead>\n",
       "    <tr style=\"text-align: right;\">\n",
       "      <th></th>\n",
       "      <th>odometer_value</th>\n",
       "      <th>year_produced</th>\n",
       "      <th>engine_capacity</th>\n",
       "      <th>duration_listed</th>\n",
       "      <th>transmission_mechanical</th>\n",
       "      <th>engine_type_electric</th>\n",
       "      <th>engine_type_gasoline</th>\n",
       "      <th>has_warranty_True</th>\n",
       "      <th>is_exchangeable_True</th>\n",
       "      <th>engine_has_gas_True</th>\n",
       "      <th>...</th>\n",
       "      <th>feature_0_True</th>\n",
       "      <th>feature_1_True</th>\n",
       "      <th>feature_2_True</th>\n",
       "      <th>feature_3_True</th>\n",
       "      <th>feature_4_True</th>\n",
       "      <th>feature_5_True</th>\n",
       "      <th>feature_6_True</th>\n",
       "      <th>feature_7_True</th>\n",
       "      <th>feature_8_True</th>\n",
       "      <th>feature_9_True</th>\n",
       "    </tr>\n",
       "  </thead>\n",
       "  <tbody>\n",
       "    <tr>\n",
       "      <th>0</th>\n",
       "      <td>190000</td>\n",
       "      <td>2010</td>\n",
       "      <td>2.5</td>\n",
       "      <td>16</td>\n",
       "      <td>0</td>\n",
       "      <td>0</td>\n",
       "      <td>1</td>\n",
       "      <td>0</td>\n",
       "      <td>0</td>\n",
       "      <td>0</td>\n",
       "      <td>...</td>\n",
       "      <td>0</td>\n",
       "      <td>1</td>\n",
       "      <td>1</td>\n",
       "      <td>1</td>\n",
       "      <td>0</td>\n",
       "      <td>1</td>\n",
       "      <td>0</td>\n",
       "      <td>1</td>\n",
       "      <td>1</td>\n",
       "      <td>1</td>\n",
       "    </tr>\n",
       "    <tr>\n",
       "      <th>1</th>\n",
       "      <td>290000</td>\n",
       "      <td>2002</td>\n",
       "      <td>3.0</td>\n",
       "      <td>83</td>\n",
       "      <td>0</td>\n",
       "      <td>0</td>\n",
       "      <td>1</td>\n",
       "      <td>0</td>\n",
       "      <td>1</td>\n",
       "      <td>0</td>\n",
       "      <td>...</td>\n",
       "      <td>0</td>\n",
       "      <td>1</td>\n",
       "      <td>0</td>\n",
       "      <td>0</td>\n",
       "      <td>1</td>\n",
       "      <td>1</td>\n",
       "      <td>0</td>\n",
       "      <td>0</td>\n",
       "      <td>0</td>\n",
       "      <td>1</td>\n",
       "    </tr>\n",
       "    <tr>\n",
       "      <th>2</th>\n",
       "      <td>402000</td>\n",
       "      <td>2001</td>\n",
       "      <td>2.5</td>\n",
       "      <td>151</td>\n",
       "      <td>0</td>\n",
       "      <td>0</td>\n",
       "      <td>1</td>\n",
       "      <td>0</td>\n",
       "      <td>1</td>\n",
       "      <td>0</td>\n",
       "      <td>...</td>\n",
       "      <td>0</td>\n",
       "      <td>1</td>\n",
       "      <td>0</td>\n",
       "      <td>0</td>\n",
       "      <td>0</td>\n",
       "      <td>0</td>\n",
       "      <td>0</td>\n",
       "      <td>0</td>\n",
       "      <td>1</td>\n",
       "      <td>1</td>\n",
       "    </tr>\n",
       "    <tr>\n",
       "      <th>3</th>\n",
       "      <td>10000</td>\n",
       "      <td>1999</td>\n",
       "      <td>3.0</td>\n",
       "      <td>86</td>\n",
       "      <td>1</td>\n",
       "      <td>0</td>\n",
       "      <td>1</td>\n",
       "      <td>0</td>\n",
       "      <td>1</td>\n",
       "      <td>0</td>\n",
       "      <td>...</td>\n",
       "      <td>1</td>\n",
       "      <td>0</td>\n",
       "      <td>0</td>\n",
       "      <td>0</td>\n",
       "      <td>0</td>\n",
       "      <td>0</td>\n",
       "      <td>0</td>\n",
       "      <td>0</td>\n",
       "      <td>0</td>\n",
       "      <td>0</td>\n",
       "    </tr>\n",
       "    <tr>\n",
       "      <th>4</th>\n",
       "      <td>280000</td>\n",
       "      <td>2001</td>\n",
       "      <td>2.5</td>\n",
       "      <td>7</td>\n",
       "      <td>0</td>\n",
       "      <td>0</td>\n",
       "      <td>1</td>\n",
       "      <td>0</td>\n",
       "      <td>1</td>\n",
       "      <td>0</td>\n",
       "      <td>...</td>\n",
       "      <td>0</td>\n",
       "      <td>1</td>\n",
       "      <td>0</td>\n",
       "      <td>1</td>\n",
       "      <td>1</td>\n",
       "      <td>0</td>\n",
       "      <td>0</td>\n",
       "      <td>0</td>\n",
       "      <td>0</td>\n",
       "      <td>1</td>\n",
       "    </tr>\n",
       "    <tr>\n",
       "      <th>...</th>\n",
       "      <td>...</td>\n",
       "      <td>...</td>\n",
       "      <td>...</td>\n",
       "      <td>...</td>\n",
       "      <td>...</td>\n",
       "      <td>...</td>\n",
       "      <td>...</td>\n",
       "      <td>...</td>\n",
       "      <td>...</td>\n",
       "      <td>...</td>\n",
       "      <td>...</td>\n",
       "      <td>...</td>\n",
       "      <td>...</td>\n",
       "      <td>...</td>\n",
       "      <td>...</td>\n",
       "      <td>...</td>\n",
       "      <td>...</td>\n",
       "      <td>...</td>\n",
       "      <td>...</td>\n",
       "      <td>...</td>\n",
       "      <td>...</td>\n",
       "    </tr>\n",
       "    <tr>\n",
       "      <th>38526</th>\n",
       "      <td>290000</td>\n",
       "      <td>2000</td>\n",
       "      <td>3.5</td>\n",
       "      <td>301</td>\n",
       "      <td>0</td>\n",
       "      <td>0</td>\n",
       "      <td>1</td>\n",
       "      <td>0</td>\n",
       "      <td>1</td>\n",
       "      <td>0</td>\n",
       "      <td>...</td>\n",
       "      <td>0</td>\n",
       "      <td>1</td>\n",
       "      <td>0</td>\n",
       "      <td>0</td>\n",
       "      <td>1</td>\n",
       "      <td>1</td>\n",
       "      <td>0</td>\n",
       "      <td>0</td>\n",
       "      <td>1</td>\n",
       "      <td>1</td>\n",
       "    </tr>\n",
       "    <tr>\n",
       "      <th>38527</th>\n",
       "      <td>321000</td>\n",
       "      <td>2004</td>\n",
       "      <td>2.2</td>\n",
       "      <td>317</td>\n",
       "      <td>1</td>\n",
       "      <td>0</td>\n",
       "      <td>0</td>\n",
       "      <td>0</td>\n",
       "      <td>1</td>\n",
       "      <td>0</td>\n",
       "      <td>...</td>\n",
       "      <td>0</td>\n",
       "      <td>1</td>\n",
       "      <td>0</td>\n",
       "      <td>0</td>\n",
       "      <td>1</td>\n",
       "      <td>1</td>\n",
       "      <td>0</td>\n",
       "      <td>0</td>\n",
       "      <td>1</td>\n",
       "      <td>1</td>\n",
       "    </tr>\n",
       "    <tr>\n",
       "      <th>38528</th>\n",
       "      <td>777957</td>\n",
       "      <td>2000</td>\n",
       "      <td>3.5</td>\n",
       "      <td>369</td>\n",
       "      <td>0</td>\n",
       "      <td>0</td>\n",
       "      <td>1</td>\n",
       "      <td>0</td>\n",
       "      <td>0</td>\n",
       "      <td>0</td>\n",
       "      <td>...</td>\n",
       "      <td>0</td>\n",
       "      <td>1</td>\n",
       "      <td>0</td>\n",
       "      <td>0</td>\n",
       "      <td>1</td>\n",
       "      <td>1</td>\n",
       "      <td>0</td>\n",
       "      <td>0</td>\n",
       "      <td>1</td>\n",
       "      <td>1</td>\n",
       "    </tr>\n",
       "    <tr>\n",
       "      <th>38529</th>\n",
       "      <td>20000</td>\n",
       "      <td>2001</td>\n",
       "      <td>2.0</td>\n",
       "      <td>490</td>\n",
       "      <td>1</td>\n",
       "      <td>0</td>\n",
       "      <td>1</td>\n",
       "      <td>0</td>\n",
       "      <td>1</td>\n",
       "      <td>0</td>\n",
       "      <td>...</td>\n",
       "      <td>0</td>\n",
       "      <td>1</td>\n",
       "      <td>0</td>\n",
       "      <td>0</td>\n",
       "      <td>0</td>\n",
       "      <td>0</td>\n",
       "      <td>0</td>\n",
       "      <td>0</td>\n",
       "      <td>0</td>\n",
       "      <td>1</td>\n",
       "    </tr>\n",
       "    <tr>\n",
       "      <th>38530</th>\n",
       "      <td>297729</td>\n",
       "      <td>2000</td>\n",
       "      <td>2.4</td>\n",
       "      <td>632</td>\n",
       "      <td>0</td>\n",
       "      <td>0</td>\n",
       "      <td>1</td>\n",
       "      <td>0</td>\n",
       "      <td>1</td>\n",
       "      <td>0</td>\n",
       "      <td>...</td>\n",
       "      <td>0</td>\n",
       "      <td>0</td>\n",
       "      <td>0</td>\n",
       "      <td>0</td>\n",
       "      <td>0</td>\n",
       "      <td>0</td>\n",
       "      <td>0</td>\n",
       "      <td>0</td>\n",
       "      <td>0</td>\n",
       "      <td>1</td>\n",
       "    </tr>\n",
       "  </tbody>\n",
       "</table>\n",
       "<p>38491 rows × 45 columns</p>\n",
       "</div>"
      ],
      "text/plain": [
       "       odometer_value  year_produced  engine_capacity  duration_listed  \\\n",
       "0              190000           2010              2.5               16   \n",
       "1              290000           2002              3.0               83   \n",
       "2              402000           2001              2.5              151   \n",
       "3               10000           1999              3.0               86   \n",
       "4              280000           2001              2.5                7   \n",
       "...               ...            ...              ...              ...   \n",
       "38526          290000           2000              3.5              301   \n",
       "38527          321000           2004              2.2              317   \n",
       "38528          777957           2000              3.5              369   \n",
       "38529           20000           2001              2.0              490   \n",
       "38530          297729           2000              2.4              632   \n",
       "\n",
       "       transmission_mechanical  engine_type_electric  engine_type_gasoline  \\\n",
       "0                            0                     0                     1   \n",
       "1                            0                     0                     1   \n",
       "2                            0                     0                     1   \n",
       "3                            1                     0                     1   \n",
       "4                            0                     0                     1   \n",
       "...                        ...                   ...                   ...   \n",
       "38526                        0                     0                     1   \n",
       "38527                        1                     0                     0   \n",
       "38528                        0                     0                     1   \n",
       "38529                        1                     0                     1   \n",
       "38530                        0                     0                     1   \n",
       "\n",
       "       has_warranty_True  is_exchangeable_True  engine_has_gas_True  ...  \\\n",
       "0                      0                     0                    0  ...   \n",
       "1                      0                     1                    0  ...   \n",
       "2                      0                     1                    0  ...   \n",
       "3                      0                     1                    0  ...   \n",
       "4                      0                     1                    0  ...   \n",
       "...                  ...                   ...                  ...  ...   \n",
       "38526                  0                     1                    0  ...   \n",
       "38527                  0                     1                    0  ...   \n",
       "38528                  0                     0                    0  ...   \n",
       "38529                  0                     1                    0  ...   \n",
       "38530                  0                     1                    0  ...   \n",
       "\n",
       "       feature_0_True  feature_1_True  feature_2_True  feature_3_True  \\\n",
       "0                   0               1               1               1   \n",
       "1                   0               1               0               0   \n",
       "2                   0               1               0               0   \n",
       "3                   1               0               0               0   \n",
       "4                   0               1               0               1   \n",
       "...               ...             ...             ...             ...   \n",
       "38526               0               1               0               0   \n",
       "38527               0               1               0               0   \n",
       "38528               0               1               0               0   \n",
       "38529               0               1               0               0   \n",
       "38530               0               0               0               0   \n",
       "\n",
       "       feature_4_True  feature_5_True  feature_6_True  feature_7_True  \\\n",
       "0                   0               1               0               1   \n",
       "1                   1               1               0               0   \n",
       "2                   0               0               0               0   \n",
       "3                   0               0               0               0   \n",
       "4                   1               0               0               0   \n",
       "...               ...             ...             ...             ...   \n",
       "38526               1               1               0               0   \n",
       "38527               1               1               0               0   \n",
       "38528               1               1               0               0   \n",
       "38529               0               0               0               0   \n",
       "38530               0               0               0               0   \n",
       "\n",
       "       feature_8_True  feature_9_True  \n",
       "0                   1               1  \n",
       "1                   0               1  \n",
       "2                   1               1  \n",
       "3                   0               0  \n",
       "4                   0               1  \n",
       "...               ...             ...  \n",
       "38526               1               1  \n",
       "38527               1               1  \n",
       "38528               1               1  \n",
       "38529               0               1  \n",
       "38530               0               1  \n",
       "\n",
       "[38491 rows x 45 columns]"
      ]
     },
     "execution_count": 13,
     "metadata": {},
     "output_type": "execute_result"
    }
   ],
   "source": [
    "X"
   ]
  },
  {
   "cell_type": "code",
   "execution_count": 14,
   "id": "669e4a8d",
   "metadata": {},
   "outputs": [],
   "source": [
    "from sklearn.model_selection import train_test_split\n",
    "X_train, X_test, y_train, y_test = train_test_split(X, y, test_size=0.2)"
   ]
  },
  {
   "cell_type": "code",
   "execution_count": 17,
   "id": "51d1dc1c",
   "metadata": {},
   "outputs": [
    {
     "data": {
      "text/plain": [
       "((30792, 45), (30792,), (7699, 45), (7699,))"
      ]
     },
     "execution_count": 17,
     "metadata": {},
     "output_type": "execute_result"
    }
   ],
   "source": [
    "X_train.shape, y_train.shape, X_test.shape, y_test.shape"
   ]
  },
  {
   "attachments": {},
   "cell_type": "markdown",
   "id": "abf7e303",
   "metadata": {},
   "source": [
    "# Линейная регрессия 1-ой степени из \"пакета\""
   ]
  },
  {
   "cell_type": "code",
   "execution_count": 19,
   "id": "7be0c396",
   "metadata": {},
   "outputs": [],
   "source": [
    "from sklearn.linear_model import LinearRegression, Lasso, Ridge\n",
    "lr = LinearRegression().fit(X_train, y_train)"
   ]
  },
  {
   "cell_type": "code",
   "execution_count": 34,
   "id": "12dd9d89",
   "metadata": {},
   "outputs": [
    {
     "data": {
      "text/plain": [
       "array([-5.00736849e-03,  3.63556957e+02,  8.48340062e+02,  1.20509246e+00,\n",
       "       -6.78540676e+02,  2.85567700e+03, -3.26592429e+02,  1.41624274e+03,\n",
       "       -1.54049528e+02, -4.86007001e+02, -2.30022459e+03, -4.07586224e+03,\n",
       "       -3.23201474e+03, -3.75999058e+03, -5.29176613e+02, -3.23128327e+03,\n",
       "       -7.24654495e+02, -3.62403929e+03, -2.01463386e+03, -3.98872747e+03,\n",
       "       -2.14431297e+03,  1.22412142e+04,  1.45453381e+03,  2.85567700e+03,\n",
       "       -4.86007001e+02, -5.15629211e+02,  2.07957394e+03,  6.75043783e+02,\n",
       "       -2.41590364e+03, -1.27710528e+03, -3.73433910e+02, -1.48406908e+02,\n",
       "       -7.22576079e+01,  2.71026189e+02, -2.33101055e+02,  2.94833442e+02,\n",
       "       -7.70732830e+02,  5.80484721e+02,  7.91118538e+02,  6.99767474e+01,\n",
       "        1.50244529e+02,  1.28033293e+03,  1.26076417e+03,  3.33576719e+02,\n",
       "        1.52127639e+02])"
      ]
     },
     "execution_count": 34,
     "metadata": {},
     "output_type": "execute_result"
    }
   ],
   "source": [
    "lr.coef_"
   ]
  },
  {
   "cell_type": "code",
   "execution_count": 20,
   "id": "8e5671f3",
   "metadata": {},
   "outputs": [
    {
     "data": {
      "text/plain": [
       "array([ 3417.65230832, 12658.10505823,  1391.30222421, ...,\n",
       "        8824.44729854, 12899.02530006,  2998.55232542])"
      ]
     },
     "execution_count": 20,
     "metadata": {},
     "output_type": "execute_result"
    }
   ],
   "source": [
    "lr.predict(X_test)"
   ]
  },
  {
   "cell_type": "code",
   "execution_count": 21,
   "id": "84ab88b1",
   "metadata": {},
   "outputs": [],
   "source": [
    "from sklearn.metrics import mean_squared_error, mean_absolute_error, mean_absolute_percentage_error\n",
    "from math import sqrt"
   ]
  },
  {
   "cell_type": "code",
   "execution_count": 22,
   "id": "5db1a437",
   "metadata": {},
   "outputs": [],
   "source": [
    "y_pred = lr.predict(X_test)"
   ]
  },
  {
   "cell_type": "code",
   "execution_count": 23,
   "id": "ae8c0066",
   "metadata": {},
   "outputs": [
    {
     "data": {
      "text/plain": [
       "7699"
      ]
     },
     "execution_count": 23,
     "metadata": {},
     "output_type": "execute_result"
    }
   ],
   "source": [
    "len(y_pred)"
   ]
  },
  {
   "cell_type": "code",
   "execution_count": 24,
   "id": "72d8a57f",
   "metadata": {},
   "outputs": [
    {
     "name": "stdout",
     "output_type": "stream",
     "text": [
      "MAE: 2149.4471495634175\n",
      "MSE: 12089350.732363107\n",
      "RMSE: 3476.97436463991\n",
      "MAPE: 0.9977456930358968\n",
      "R^2: 0.7110450069001637\n"
     ]
    }
   ],
   "source": [
    "print(f'MAE: {mean_absolute_error(y_test, y_pred)}')\n",
    "print(f'MSE: {mean_squared_error(y_test, y_pred)}')\n",
    "print(f'RMSE: {sqrt(mean_squared_error(y_test, y_pred))}')\n",
    "print(f'MAPE: {sqrt(mean_absolute_percentage_error(y_test, y_pred))}')\n",
    "print(f'R^2: {lr.score(X_test, y_test)}')"
   ]
  },
  {
   "cell_type": "code",
   "execution_count": 22,
   "id": "36d07f72",
   "metadata": {},
   "outputs": [
    {
     "data": {
      "text/plain": [
       "array([-5.02478580e-03,  3.67653993e+02,  9.13738927e+02,  1.15351255e+00,\n",
       "       -7.15756494e+02,  1.02852499e+03, -4.48405188e+02,  2.47075912e+03,\n",
       "       -1.64485289e+02, -4.78465305e+02, -2.40937312e+03, -4.10733617e+03,\n",
       "       -3.36583864e+03, -3.93029507e+03, -5.27874789e+02, -3.34951065e+03,\n",
       "       -6.05574998e+02, -3.70472023e+03, -2.09390792e+03, -4.06597282e+03,\n",
       "       -2.25433192e+03,  1.08847182e+04,  1.45556018e+03,  1.02852499e+03,\n",
       "       -4.78465305e+02, -4.36358814e+02,  1.40520199e+03,  4.66418930e+02,\n",
       "       -2.39780342e+03, -1.26170641e+03, -3.17735738e+02, -1.35934725e+02,\n",
       "       -3.34568827e+01,  3.13244676e+02, -1.45703403e+02,  3.10739114e+02,\n",
       "       -7.77029457e+02,  5.80556113e+02,  7.54822028e+02,  9.62026702e+01,\n",
       "        1.59702851e+02,  1.30932325e+03,  1.21918882e+03,  2.98100958e+02,\n",
       "        1.50184539e+02])"
      ]
     },
     "execution_count": 22,
     "metadata": {},
     "output_type": "execute_result"
    }
   ],
   "source": [
    "len(lr.coef_)\n",
    "lr.coef_"
   ]
  },
  {
   "cell_type": "code",
   "execution_count": 25,
   "id": "76098769",
   "metadata": {},
   "outputs": [
    {
     "name": "stdout",
     "output_type": "stream",
     "text": [
      "MAE: 2149.517788117478\n",
      "MSE: 12089759.395860769\n",
      "RMSE: 3477.033131257275\n",
      "MAPE: 0.9977587486798166\n",
      "R^2: 0.7110352391830413\n"
     ]
    },
    {
     "data": {
      "text/plain": [
       "array([-4.89496810e-03,  3.64457212e+02,  8.14039554e+02,  1.35433390e+00,\n",
       "       -7.48971315e+02,  2.60806763e+03, -3.04458694e+02,  2.09897597e+03,\n",
       "       -1.52565585e+02, -5.37344832e+02, -1.79548382e+03, -3.41094475e+03,\n",
       "       -2.66304487e+03, -2.66514789e+03,  1.06547555e+02, -2.61664135e+03,\n",
       "       -3.01052201e+02, -3.05967337e+03, -1.38425518e+03, -3.36065359e+03,\n",
       "       -1.51830963e+03,  1.16339688e+04,  1.45817933e+03,  2.60806763e+03,\n",
       "       -5.37344832e+02, -5.29333107e+02,  1.59935720e+03,  7.62219245e+02,\n",
       "       -2.43269563e+03, -1.23961270e+03, -3.32301802e+02, -1.30624558e+02,\n",
       "       -4.77663714e+01,  3.42488269e+02, -7.50849294e+01,  2.82130429e+02,\n",
       "       -7.94952442e+02,  5.87292168e+02,  7.72926204e+02,  1.50466319e+02,\n",
       "        1.23144585e+02,  1.36374962e+03,  1.25025312e+03,  3.06915117e+02,\n",
       "        1.43332146e+02])"
      ]
     },
     "execution_count": 25,
     "metadata": {},
     "output_type": "execute_result"
    }
   ],
   "source": [
    "ridge = Ridge(alpha=0.5).fit(X_train, y_train)\n",
    "y_pred = ridge.predict(X_test)\n",
    "print(f'MAE: {mean_absolute_error(y_test, y_pred)}')\n",
    "print(f'MSE: {mean_squared_error(y_test, y_pred)}')\n",
    "print(f'RMSE: {sqrt(mean_squared_error(y_test, y_pred))}')\n",
    "print(f'MAPE: {sqrt(mean_absolute_percentage_error(y_test, y_pred))}')\n",
    "print(f'R^2: {ridge.score(X_test, y_test)}')\n",
    "ridge.coef_"
   ]
  },
  {
   "cell_type": "code",
   "execution_count": 26,
   "id": "73bb1671",
   "metadata": {},
   "outputs": [
    {
     "name": "stdout",
     "output_type": "stream",
     "text": [
      "MAE: 2149.741412813095\n",
      "MSE: 12096611.579379078\n",
      "RMSE: 3478.0183408629514\n",
      "MAPE: 0.9987203785288432\n",
      "R^2: 0.7108714609384452\n"
     ]
    },
    {
     "data": {
      "text/plain": [
       "array([-4.91828960e-03,  3.64874440e+02,  8.14503310e+02,  1.37548879e+00,\n",
       "       -7.51156934e+02,  2.23025545e+03, -8.32515545e+02,  2.03362606e+03,\n",
       "       -1.47412108e+02, -5.12446446e+02, -3.93360954e+02, -2.03019963e+03,\n",
       "       -1.24322094e+03, -0.00000000e+00,  1.46862770e+03, -1.23450036e+03,\n",
       "        9.26313997e+02, -1.68322218e+03, -0.00000000e+00, -1.97948548e+03,\n",
       "       -1.21562774e+02,  1.15631549e+04,  1.37375690e+03,  9.51968009e+02,\n",
       "       -2.06865133e+01, -3.78203711e-01,  0.00000000e+00,  1.20613802e+03,\n",
       "       -2.41938788e+03, -1.21427375e+03, -3.05520331e+02, -1.03409293e+02,\n",
       "       -1.96892148e+01,  3.65552545e+02, -4.51575319e+01,  2.77630172e+02,\n",
       "       -7.94548926e+02,  5.87245367e+02,  7.68097583e+02,  1.56746806e+02,\n",
       "        1.22598096e+02,  1.36453307e+03,  1.24932253e+03,  3.03198929e+02,\n",
       "        1.41601979e+02])"
      ]
     },
     "execution_count": 26,
     "metadata": {},
     "output_type": "execute_result"
    }
   ],
   "source": [
    "lasso = Lasso(alpha=0.5).fit(X_train, y_train)\n",
    "y_pred = lasso.predict(X_test)\n",
    "print(f'MAE: {mean_absolute_error(y_test, y_pred)}')\n",
    "print(f'MSE: {mean_squared_error(y_test, y_pred)}')\n",
    "print(f'RMSE: {sqrt(mean_squared_error(y_test, y_pred))}')\n",
    "print(f'MAPE: {sqrt(mean_absolute_percentage_error(y_test, y_pred))}')\n",
    "print(f'R^2: {lasso.score(X_test, y_test)}')\n",
    "lasso.coef_"
   ]
  },
  {
   "attachments": {},
   "cell_type": "markdown",
   "id": "5539e3e2",
   "metadata": {},
   "source": [
    "Подбор гиперпараметра"
   ]
  },
  {
   "cell_type": "code",
   "execution_count": 29,
   "id": "be8fe9ef",
   "metadata": {},
   "outputs": [],
   "source": [
    "from sklearn.model_selection import GridSearchCV, RandomizedSearchCV\n",
    "import numpy as np"
   ]
  },
  {
   "cell_type": "code",
   "execution_count": 30,
   "id": "5f2f7922",
   "metadata": {},
   "outputs": [],
   "source": [
    "parameters = {'alpha': np.arange(0, 1, 0.01)}"
   ]
  },
  {
   "cell_type": "code",
   "execution_count": 31,
   "id": "bc509c5b",
   "metadata": {},
   "outputs": [
    {
     "name": "stderr",
     "output_type": "stream",
     "text": [
      "d:\\jupyter\\Machine Learning\\venv\\lib\\site-packages\\sklearn\\linear_model\\_ridge.py:216: LinAlgWarning: Ill-conditioned matrix (rcond=1.89965e-17): result may not be accurate.\n",
      "  return linalg.solve(A, Xy, assume_a=\"pos\", overwrite_a=True).T\n",
      "d:\\jupyter\\Machine Learning\\venv\\lib\\site-packages\\sklearn\\linear_model\\_ridge.py:216: LinAlgWarning: Ill-conditioned matrix (rcond=1.92331e-17): result may not be accurate.\n",
      "  return linalg.solve(A, Xy, assume_a=\"pos\", overwrite_a=True).T\n",
      "d:\\jupyter\\Machine Learning\\venv\\lib\\site-packages\\sklearn\\linear_model\\_ridge.py:216: LinAlgWarning: Ill-conditioned matrix (rcond=1.9187e-17): result may not be accurate.\n",
      "  return linalg.solve(A, Xy, assume_a=\"pos\", overwrite_a=True).T\n",
      "d:\\jupyter\\Machine Learning\\venv\\lib\\site-packages\\sklearn\\linear_model\\_ridge.py:216: LinAlgWarning: Ill-conditioned matrix (rcond=1.9404e-17): result may not be accurate.\n",
      "  return linalg.solve(A, Xy, assume_a=\"pos\", overwrite_a=True).T\n",
      "d:\\jupyter\\Machine Learning\\venv\\lib\\site-packages\\sklearn\\linear_model\\_ridge.py:216: LinAlgWarning: Ill-conditioned matrix (rcond=1.90045e-17): result may not be accurate.\n",
      "  return linalg.solve(A, Xy, assume_a=\"pos\", overwrite_a=True).T\n",
      "d:\\jupyter\\Machine Learning\\venv\\lib\\site-packages\\sklearn\\linear_model\\_ridge.py:216: LinAlgWarning: Ill-conditioned matrix (rcond=3.79926e-17): result may not be accurate.\n",
      "  return linalg.solve(A, Xy, assume_a=\"pos\", overwrite_a=True).T\n",
      "d:\\jupyter\\Machine Learning\\venv\\lib\\site-packages\\sklearn\\linear_model\\_ridge.py:216: LinAlgWarning: Ill-conditioned matrix (rcond=3.84657e-17): result may not be accurate.\n",
      "  return linalg.solve(A, Xy, assume_a=\"pos\", overwrite_a=True).T\n",
      "d:\\jupyter\\Machine Learning\\venv\\lib\\site-packages\\sklearn\\linear_model\\_ridge.py:216: LinAlgWarning: Ill-conditioned matrix (rcond=3.83737e-17): result may not be accurate.\n",
      "  return linalg.solve(A, Xy, assume_a=\"pos\", overwrite_a=True).T\n",
      "d:\\jupyter\\Machine Learning\\venv\\lib\\site-packages\\sklearn\\linear_model\\_ridge.py:216: LinAlgWarning: Ill-conditioned matrix (rcond=3.88076e-17): result may not be accurate.\n",
      "  return linalg.solve(A, Xy, assume_a=\"pos\", overwrite_a=True).T\n",
      "d:\\jupyter\\Machine Learning\\venv\\lib\\site-packages\\sklearn\\linear_model\\_ridge.py:216: LinAlgWarning: Ill-conditioned matrix (rcond=3.80086e-17): result may not be accurate.\n",
      "  return linalg.solve(A, Xy, assume_a=\"pos\", overwrite_a=True).T\n",
      "d:\\jupyter\\Machine Learning\\venv\\lib\\site-packages\\sklearn\\linear_model\\_ridge.py:216: LinAlgWarning: Ill-conditioned matrix (rcond=5.69883e-17): result may not be accurate.\n",
      "  return linalg.solve(A, Xy, assume_a=\"pos\", overwrite_a=True).T\n",
      "d:\\jupyter\\Machine Learning\\venv\\lib\\site-packages\\sklearn\\linear_model\\_ridge.py:216: LinAlgWarning: Ill-conditioned matrix (rcond=5.7698e-17): result may not be accurate.\n",
      "  return linalg.solve(A, Xy, assume_a=\"pos\", overwrite_a=True).T\n",
      "d:\\jupyter\\Machine Learning\\venv\\lib\\site-packages\\sklearn\\linear_model\\_ridge.py:216: LinAlgWarning: Ill-conditioned matrix (rcond=5.75599e-17): result may not be accurate.\n",
      "  return linalg.solve(A, Xy, assume_a=\"pos\", overwrite_a=True).T\n",
      "d:\\jupyter\\Machine Learning\\venv\\lib\\site-packages\\sklearn\\linear_model\\_ridge.py:216: LinAlgWarning: Ill-conditioned matrix (rcond=5.82108e-17): result may not be accurate.\n",
      "  return linalg.solve(A, Xy, assume_a=\"pos\", overwrite_a=True).T\n",
      "d:\\jupyter\\Machine Learning\\venv\\lib\\site-packages\\sklearn\\linear_model\\_ridge.py:216: LinAlgWarning: Ill-conditioned matrix (rcond=5.70123e-17): result may not be accurate.\n",
      "  return linalg.solve(A, Xy, assume_a=\"pos\", overwrite_a=True).T\n",
      "d:\\jupyter\\Machine Learning\\venv\\lib\\site-packages\\sklearn\\linear_model\\_ridge.py:216: LinAlgWarning: Ill-conditioned matrix (rcond=7.59835e-17): result may not be accurate.\n",
      "  return linalg.solve(A, Xy, assume_a=\"pos\", overwrite_a=True).T\n",
      "d:\\jupyter\\Machine Learning\\venv\\lib\\site-packages\\sklearn\\linear_model\\_ridge.py:216: LinAlgWarning: Ill-conditioned matrix (rcond=7.69299e-17): result may not be accurate.\n",
      "  return linalg.solve(A, Xy, assume_a=\"pos\", overwrite_a=True).T\n",
      "d:\\jupyter\\Machine Learning\\venv\\lib\\site-packages\\sklearn\\linear_model\\_ridge.py:216: LinAlgWarning: Ill-conditioned matrix (rcond=7.67457e-17): result may not be accurate.\n",
      "  return linalg.solve(A, Xy, assume_a=\"pos\", overwrite_a=True).T\n",
      "d:\\jupyter\\Machine Learning\\venv\\lib\\site-packages\\sklearn\\linear_model\\_ridge.py:216: LinAlgWarning: Ill-conditioned matrix (rcond=7.76136e-17): result may not be accurate.\n",
      "  return linalg.solve(A, Xy, assume_a=\"pos\", overwrite_a=True).T\n",
      "d:\\jupyter\\Machine Learning\\venv\\lib\\site-packages\\sklearn\\linear_model\\_ridge.py:216: LinAlgWarning: Ill-conditioned matrix (rcond=7.60156e-17): result may not be accurate.\n",
      "  return linalg.solve(A, Xy, assume_a=\"pos\", overwrite_a=True).T\n",
      "d:\\jupyter\\Machine Learning\\venv\\lib\\site-packages\\sklearn\\linear_model\\_ridge.py:216: LinAlgWarning: Ill-conditioned matrix (rcond=9.49782e-17): result may not be accurate.\n",
      "  return linalg.solve(A, Xy, assume_a=\"pos\", overwrite_a=True).T\n",
      "d:\\jupyter\\Machine Learning\\venv\\lib\\site-packages\\sklearn\\linear_model\\_ridge.py:216: LinAlgWarning: Ill-conditioned matrix (rcond=9.61614e-17): result may not be accurate.\n",
      "  return linalg.solve(A, Xy, assume_a=\"pos\", overwrite_a=True).T\n",
      "d:\\jupyter\\Machine Learning\\venv\\lib\\site-packages\\sklearn\\linear_model\\_ridge.py:216: LinAlgWarning: Ill-conditioned matrix (rcond=9.59312e-17): result may not be accurate.\n",
      "  return linalg.solve(A, Xy, assume_a=\"pos\", overwrite_a=True).T\n",
      "d:\\jupyter\\Machine Learning\\venv\\lib\\site-packages\\sklearn\\linear_model\\_ridge.py:216: LinAlgWarning: Ill-conditioned matrix (rcond=9.7016e-17): result may not be accurate.\n",
      "  return linalg.solve(A, Xy, assume_a=\"pos\", overwrite_a=True).T\n",
      "d:\\jupyter\\Machine Learning\\venv\\lib\\site-packages\\sklearn\\linear_model\\_ridge.py:216: LinAlgWarning: Ill-conditioned matrix (rcond=9.50185e-17): result may not be accurate.\n",
      "  return linalg.solve(A, Xy, assume_a=\"pos\", overwrite_a=True).T\n"
     ]
    },
    {
     "data": {
      "text/plain": [
       "{'alpha': 0.96}"
      ]
     },
     "execution_count": 31,
     "metadata": {},
     "output_type": "execute_result"
    }
   ],
   "source": [
    "ridge_optimal = GridSearchCV(Ridge(), parameters).fit(X_train, y_train)\n",
    "# выводим оптимальные значения параметров\n",
    "ridge_optimal.best_params_"
   ]
  },
  {
   "cell_type": "code",
   "execution_count": 32,
   "id": "46c1680c",
   "metadata": {},
   "outputs": [
    {
     "name": "stdout",
     "output_type": "stream",
     "text": [
      "MAE: 2149.5803981199065\n",
      "MSE: 12090182.00395098\n",
      "RMSE: 3477.0939020899305\n",
      "MAPE: 0.9977646950799858\n",
      "R^2: 0.7110251381676522\n"
     ]
    },
    {
     "data": {
      "text/plain": [
       "array([-4.89786453e-03,  3.64530538e+02,  8.13890011e+02,  1.35739129e+00,\n",
       "       -7.49323659e+02,  2.52700981e+03, -3.05232110e+02,  2.13163036e+03,\n",
       "       -1.52002757e+02, -5.36910136e+02, -1.64902720e+03, -3.26545023e+03,\n",
       "       -2.51498059e+03, -2.39907841e+03,  2.51712537e+02, -2.47080030e+03,\n",
       "       -1.55735891e+02, -2.91432071e+03, -1.23829480e+03, -3.21495198e+03,\n",
       "       -1.37242540e+03,  1.15669305e+04,  1.43778565e+03,  2.52700981e+03,\n",
       "       -5.36910136e+02, -5.28553246e+02,  1.34307955e+03,  7.60231272e+02,\n",
       "       -2.43155201e+03, -1.23756412e+03, -3.32175452e+02, -1.30425099e+02,\n",
       "       -4.76468723e+01,  3.43029999e+02, -7.46534392e+01,  2.82883292e+02,\n",
       "       -7.94891202e+02,  5.87555565e+02,  7.72454762e+02,  1.51469839e+02,\n",
       "        1.23035964e+02,  1.36357977e+03,  1.24972239e+03,  3.06610853e+02,\n",
       "        1.43721387e+02])"
      ]
     },
     "execution_count": 32,
     "metadata": {},
     "output_type": "execute_result"
    }
   ],
   "source": [
    "ridge = Ridge(alpha=ridge_optimal.best_params_['alpha']).fit(X_train, y_train)\n",
    "y_pred = ridge.predict(X_test)\n",
    "print(f'MAE: {mean_absolute_error(y_test, y_pred)}')\n",
    "print(f'MSE: {mean_squared_error(y_test, y_pred)}')\n",
    "print(f'RMSE: {sqrt(mean_squared_error(y_test, y_pred))}')\n",
    "print(f'MAPE: {sqrt(mean_absolute_percentage_error(y_test, y_pred))}')\n",
    "print(f'R^2: {ridge.score(X_test, y_test)}')\n",
    "ridge.coef_"
   ]
  },
  {
   "cell_type": "code",
   "execution_count": 33,
   "id": "09e53542",
   "metadata": {},
   "outputs": [
    {
     "name": "stdout",
     "output_type": "stream",
     "text": [
      "MAE: 2149.9460391565203\n",
      "MSE: 12096182.092669776\n",
      "RMSE: 3477.956597295282\n",
      "MAPE: 0.9978014905073208\n",
      "R^2: 0.7108817263639318\n"
     ]
    },
    {
     "data": {
      "text/plain": [
       "array([-4.92892895e-03,  3.65644175e+02,  8.19084392e+02,  1.37906658e+00,\n",
       "       -7.52387509e+02,  1.90264214e+02, -8.35276511e+02,  2.00566361e+03,\n",
       "       -1.42971219e+02, -4.99001576e+02, -2.17367647e+02, -1.87593411e+03,\n",
       "       -1.05149721e+03, -0.00000000e+00,  1.59761541e+03, -1.08298076e+03,\n",
       "        9.26629256e+02, -1.53266639e+03,  1.36804923e+02, -1.82777518e+03,\n",
       "       -0.00000000e+00,  1.14355925e+04,  1.27922224e+03,  9.43688218e+02,\n",
       "       -1.91548433e+01, -1.63493413e+00,  0.00000000e+00,  1.12902149e+03,\n",
       "       -2.42151845e+03, -1.20665779e+03, -2.84403556e+02, -8.30259207e+01,\n",
       "       -0.00000000e+00,  3.81011842e+02, -2.30533662e+01,  2.74253393e+02,\n",
       "       -7.95830974e+02,  5.83226526e+02,  7.65429278e+02,  1.55580723e+02,\n",
       "        1.21407636e+02,  1.36296895e+03,  1.24942527e+03,  3.00389237e+02,\n",
       "        1.37879759e+02])"
      ]
     },
     "execution_count": 33,
     "metadata": {},
     "output_type": "execute_result"
    }
   ],
   "source": [
    "lasso = Lasso(alpha=ridge_optimal.best_params_['alpha']).fit(X_train, y_train)\n",
    "y_pred = lasso.predict(X_test)\n",
    "print(f'MAE: {mean_absolute_error(y_test, y_pred)}')\n",
    "print(f'MSE: {mean_squared_error(y_test, y_pred)}')\n",
    "print(f'RMSE: {sqrt(mean_squared_error(y_test, y_pred))}')\n",
    "print(f'MAPE: {sqrt(mean_absolute_percentage_error(y_test, y_pred))}')\n",
    "print(f'R^2: {lasso.score(X_test, y_test)}')\n",
    "lasso.coef_"
   ]
  },
  {
   "cell_type": "code",
   "execution_count": 34,
   "id": "48dc6c8f",
   "metadata": {},
   "outputs": [
    {
     "data": {
      "text/plain": [
       "{'alpha': 0.98}"
      ]
     },
     "execution_count": 34,
     "metadata": {},
     "output_type": "execute_result"
    }
   ],
   "source": [
    "ridge_optimal = RandomizedSearchCV(Ridge(), parameters).fit(X_train, y_train)\n",
    "# выводим оптимальные значения параметров\n",
    "ridge_optimal.best_params_"
   ]
  },
  {
   "cell_type": "code",
   "execution_count": 35,
   "id": "b160f164",
   "metadata": {},
   "outputs": [
    {
     "name": "stdout",
     "output_type": "stream",
     "text": [
      "MAE: 2149.582907861901\n",
      "MSE: 12090201.000843298\n",
      "RMSE: 3477.0966338086287\n",
      "MAPE: 0.9977647322034724\n",
      "R^2: 0.7110246841112675\n"
     ]
    },
    {
     "data": {
      "text/plain": [
       "array([-4.89798446e-03,  3.64533793e+02,  8.13885048e+02,  1.35751493e+00,\n",
       "       -7.49338100e+02,  2.52359977e+03, -3.05265198e+02,  2.13303217e+03,\n",
       "       -1.51978499e+02, -5.36891130e+02, -1.64316276e+03, -3.25962175e+03,\n",
       "       -2.50904679e+03, -2.38857138e+03,  2.57523242e+02, -2.46495841e+03,\n",
       "       -1.49940934e+02, -2.90849766e+03, -1.23244691e+03, -3.20911513e+03,\n",
       "       -1.36658508e+03,  1.15640467e+04,  1.43690997e+03,  2.52359977e+03,\n",
       "       -5.36891130e+02, -5.28520591e+02,  1.33374069e+03,  7.60146523e+02,\n",
       "       -2.43150413e+03, -1.23747871e+03, -3.32170344e+02, -1.30417206e+02,\n",
       "       -4.76417804e+01,  3.43051866e+02, -7.46365173e+01,  2.82915273e+02,\n",
       "       -7.94889073e+02,  5.87565911e+02,  7.72435215e+02,  1.51510302e+02,\n",
       "        1.23030838e+02,  1.36357203e+03,  1.24969971e+03,  3.06598104e+02,\n",
       "        1.43737286e+02])"
      ]
     },
     "execution_count": 35,
     "metadata": {},
     "output_type": "execute_result"
    }
   ],
   "source": [
    "ridge = Ridge(alpha=ridge_optimal.best_params_['alpha']).fit(X_train, y_train)\n",
    "y_pred = ridge.predict(X_test)\n",
    "print(f'MAE: {mean_absolute_error(y_test, y_pred)}')\n",
    "print(f'MSE: {mean_squared_error(y_test, y_pred)}')\n",
    "print(f'RMSE: {sqrt(mean_squared_error(y_test, y_pred))}')\n",
    "print(f'MAPE: {sqrt(mean_absolute_percentage_error(y_test, y_pred))}')\n",
    "print(f'R^2: {ridge.score(X_test, y_test)}')\n",
    "ridge.coef_"
   ]
  },
  {
   "cell_type": "code",
   "execution_count": 36,
   "id": "4087c0ea",
   "metadata": {},
   "outputs": [
    {
     "name": "stdout",
     "output_type": "stream",
     "text": [
      "MAE: 2149.955226778565\n",
      "MSE: 12096191.055991108\n",
      "RMSE: 3477.9578858852083\n",
      "MAPE: 0.9976843137584356\n",
      "R^2: 0.7108815121260863\n"
     ]
    },
    {
     "data": {
      "text/plain": [
       "array([-4.92912418e-03,  3.65683501e+02,  8.19334072e+02,  1.37926360e+00,\n",
       "       -7.52368408e+02,  1.01501324e+02, -8.35435015e+02,  2.00438463e+03,\n",
       "       -1.42791767e+02, -4.98445796e+02, -2.12890925e+02, -1.87246396e+03,\n",
       "       -1.04636069e+03, -0.00000000e+00,  1.59976217e+03, -1.07968572e+03,\n",
       "        9.23494042e+02, -1.52934151e+03,  1.40027073e+02, -1.82445538e+03,\n",
       "       -0.00000000e+00,  1.14299760e+04,  1.27516131e+03,  9.43310240e+02,\n",
       "       -1.91197117e+01, -1.76268214e+00,  0.00000000e+00,  1.12567940e+03,\n",
       "       -2.42128732e+03, -1.20587841e+03, -2.83860090e+02, -8.25300227e+01,\n",
       "       -0.00000000e+00,  3.81311245e+02, -2.24781223e+01,  2.74151860e+02,\n",
       "       -7.95935536e+02,  5.83043001e+02,  7.65306256e+02,  1.55474414e+02,\n",
       "        1.21354717e+02,  1.36289847e+03,  1.24940086e+03,  3.00257721e+02,\n",
       "        1.37643305e+02])"
      ]
     },
     "execution_count": 36,
     "metadata": {},
     "output_type": "execute_result"
    }
   ],
   "source": [
    "lasso = Lasso(alpha=ridge_optimal.best_params_['alpha']).fit(X_train, y_train)\n",
    "y_pred = lasso.predict(X_test)\n",
    "print(f'MAE: {mean_absolute_error(y_test, y_pred)}')\n",
    "print(f'MSE: {mean_squared_error(y_test, y_pred)}')\n",
    "print(f'RMSE: {sqrt(mean_squared_error(y_test, y_pred))}')\n",
    "print(f'MAPE: {sqrt(mean_absolute_percentage_error(y_test, y_pred))}')\n",
    "print(f'R^2: {lasso.score(X_test, y_test)}')\n",
    "lasso.coef_"
   ]
  },
  {
   "attachments": {},
   "cell_type": "markdown",
   "id": "32718174",
   "metadata": {},
   "source": [
    "# Линейная регрессия 2-ой степени"
   ]
  },
  {
   "cell_type": "code",
   "execution_count": 37,
   "id": "746a6974",
   "metadata": {},
   "outputs": [
    {
     "data": {
      "text/plain": [
       "array([[1.00000e+00, 1.90000e+05, 2.01000e+03, ..., 1.00000e+00,\n",
       "        1.00000e+00, 1.00000e+00],\n",
       "       [1.00000e+00, 2.90000e+05, 2.00200e+03, ..., 0.00000e+00,\n",
       "        0.00000e+00, 1.00000e+00],\n",
       "       [1.00000e+00, 4.02000e+05, 2.00100e+03, ..., 1.00000e+00,\n",
       "        1.00000e+00, 1.00000e+00],\n",
       "       ...,\n",
       "       [1.00000e+00, 7.77957e+05, 2.00000e+03, ..., 1.00000e+00,\n",
       "        1.00000e+00, 1.00000e+00],\n",
       "       [1.00000e+00, 2.00000e+04, 2.00100e+03, ..., 0.00000e+00,\n",
       "        0.00000e+00, 1.00000e+00],\n",
       "       [1.00000e+00, 2.97729e+05, 2.00000e+03, ..., 0.00000e+00,\n",
       "        0.00000e+00, 1.00000e+00]])"
      ]
     },
     "execution_count": 37,
     "metadata": {},
     "output_type": "execute_result"
    }
   ],
   "source": [
    "from sklearn.preprocessing import PolynomialFeatures\n",
    "# создаем объект, который позволит расширить множество предикторов\n",
    "p = PolynomialFeatures(2)  \n",
    "# добавляем новые предикторы\n",
    "X_p=p.fit_transform(X) \n",
    "X_p"
   ]
  },
  {
   "cell_type": "code",
   "execution_count": 38,
   "id": "1235217a",
   "metadata": {},
   "outputs": [],
   "source": [
    "X_ptrain, X_ptest, y_ptrain, y_ptest = train_test_split(X_p, y, test_size=0.8)"
   ]
  },
  {
   "cell_type": "code",
   "execution_count": 39,
   "id": "a775daa4",
   "metadata": {},
   "outputs": [
    {
     "data": {
      "text/plain": [
       "((7698, 1081), (7698,), (30793, 1081), (30793,))"
      ]
     },
     "execution_count": 39,
     "metadata": {},
     "output_type": "execute_result"
    }
   ],
   "source": [
    "X_ptrain.shape, y_ptrain.shape, X_ptest.shape, y_ptest.shape"
   ]
  },
  {
   "cell_type": "code",
   "execution_count": 40,
   "id": "febfbec1",
   "metadata": {},
   "outputs": [
    {
     "data": {
      "text/plain": [
       "array([ 3.74724068e+05,  6.17621677e-01, -5.05197421e+04, ...,\n",
       "       -4.01841572e+04,  5.19640391e+02,  2.03736263e+04])"
      ]
     },
     "execution_count": 40,
     "metadata": {},
     "output_type": "execute_result"
    }
   ],
   "source": [
    "lr2 = LinearRegression().fit(X_ptrain, y_ptrain)\n",
    "lr2.coef_"
   ]
  },
  {
   "cell_type": "code",
   "execution_count": 41,
   "id": "a7889468",
   "metadata": {},
   "outputs": [
    {
     "data": {
      "text/plain": [
       "array([ 3798.2452796 , 13246.76178686,  6039.2520861 , ...,\n",
       "        2275.66276322, 11561.52024169, 20710.5823197 ])"
      ]
     },
     "execution_count": 41,
     "metadata": {},
     "output_type": "execute_result"
    }
   ],
   "source": [
    "lr2.predict(X_ptest)"
   ]
  },
  {
   "cell_type": "code",
   "execution_count": 42,
   "id": "a5587525",
   "metadata": {},
   "outputs": [],
   "source": [
    "y_ppred = lr2.predict(X_ptest)"
   ]
  },
  {
   "cell_type": "code",
   "execution_count": 43,
   "id": "bb47c399",
   "metadata": {},
   "outputs": [
    {
     "data": {
      "text/plain": [
       "30793"
      ]
     },
     "execution_count": 43,
     "metadata": {},
     "output_type": "execute_result"
    }
   ],
   "source": [
    "len(y_ppred)"
   ]
  },
  {
   "cell_type": "code",
   "execution_count": 44,
   "id": "c620be72",
   "metadata": {},
   "outputs": [
    {
     "name": "stdout",
     "output_type": "stream",
     "text": [
      "MAE: 1856.1985844098874\n",
      "MSE: 21868008.604096495\n",
      "RMSE: 4676.324262077695\n",
      "MAPE: 0.9239258490620126\n",
      "R^2: 0.47357898563612344\n"
     ]
    }
   ],
   "source": [
    "print(f'MAE: {mean_absolute_error(y_ptest, y_ppred)}')\n",
    "print(f'MSE: {mean_squared_error(y_ptest, y_ppred)}')\n",
    "print(f'RMSE: {sqrt(mean_squared_error(y_ptest, y_ppred))}')\n",
    "print(f'MAPE: {sqrt(mean_absolute_percentage_error(y_ptest, y_ppred))}')\n",
    "print(f'R^2: {lr2.score(X_ptest, y_ptest)}')\n",
    "\n",
    "\n",
    "# print(f'MAE: {np.mean(abs(y-y_pred))}')\n",
    "# print(f'MSE: {np.mean((y-y_pred)**2)}')\n",
    "# print(f'RMSE: {np.sqrt(np.mean(np.square(y-y_pred)))}')\n",
    "# print(f'MAPE: {np.mean(abs((y-y_pred)/y))}')\n",
    "# print(f'R^2: {lr2.score(X_p, y)}')"
   ]
  },
  {
   "cell_type": "code",
   "execution_count": 45,
   "id": "713ca91f",
   "metadata": {},
   "outputs": [],
   "source": [
    "parameters = {'alpha': np.arange(0, 1, 0.1)}"
   ]
  },
  {
   "cell_type": "code",
   "execution_count": 46,
   "id": "a1b362ac",
   "metadata": {},
   "outputs": [
    {
     "name": "stderr",
     "output_type": "stream",
     "text": [
      "d:\\jupyter\\Machine Learning\\venv\\lib\\site-packages\\sklearn\\linear_model\\_ridge.py:216: LinAlgWarning: Ill-conditioned matrix (rcond=6.17857e-27): result may not be accurate.\n",
      "  return linalg.solve(A, Xy, assume_a=\"pos\", overwrite_a=True).T\n"
     ]
    }
   ],
   "source": [
    "cv_results = RandomizedSearchCV(Ridge(), parameters, n_jobs = -1,\n",
    "                            cv=10, scoring=\"neg_mean_absolute_percentage_error\",\n",
    "                            return_train_score=True).fit(X_ptrain, y_ptrain)"
   ]
  },
  {
   "cell_type": "code",
   "execution_count": 47,
   "id": "58f9f9e0",
   "metadata": {},
   "outputs": [
    {
     "data": {
      "text/plain": [
       "{'alpha': 0.9}"
      ]
     },
     "execution_count": 47,
     "metadata": {},
     "output_type": "execute_result"
    }
   ],
   "source": [
    "cv_results.best_params_"
   ]
  },
  {
   "cell_type": "code",
   "execution_count": 48,
   "id": "a0d84ac5",
   "metadata": {},
   "outputs": [
    {
     "name": "stderr",
     "output_type": "stream",
     "text": [
      "d:\\jupyter\\Machine Learning\\venv\\lib\\site-packages\\sklearn\\linear_model\\_ridge.py:216: LinAlgWarning: Ill-conditioned matrix (rcond=6.17857e-27): result may not be accurate.\n",
      "  return linalg.solve(A, Xy, assume_a=\"pos\", overwrite_a=True).T\n"
     ]
    }
   ],
   "source": [
    "gcv_results = GridSearchCV(Ridge(), parameters, n_jobs = -1,\n",
    "                            cv=10, scoring=\"neg_mean_absolute_percentage_error\").fit(X_ptrain, y_ptrain)"
   ]
  },
  {
   "cell_type": "code",
   "execution_count": 49,
   "id": "a6d6b708",
   "metadata": {},
   "outputs": [
    {
     "data": {
      "text/plain": [
       "{'alpha': 0.9}"
      ]
     },
     "execution_count": 49,
     "metadata": {},
     "output_type": "execute_result"
    }
   ],
   "source": [
    "gcv_results.best_params_"
   ]
  },
  {
   "cell_type": "code",
   "execution_count": 50,
   "id": "4e56dd59",
   "metadata": {},
   "outputs": [
    {
     "name": "stderr",
     "output_type": "stream",
     "text": [
      "d:\\jupyter\\Machine Learning\\venv\\lib\\site-packages\\sklearn\\linear_model\\_ridge.py:216: LinAlgWarning: Ill-conditioned matrix (rcond=6.17857e-27): result may not be accurate.\n",
      "  return linalg.solve(A, Xy, assume_a=\"pos\", overwrite_a=True).T\n"
     ]
    },
    {
     "name": "stdout",
     "output_type": "stream",
     "text": [
      "MAE: 1693.6953893104194\n",
      "MSE: 7397167.374777265\n",
      "RMSE: 2719.773405042645\n",
      "MAPE: 0.9054717586759778\n",
      "R^2: 0.8219305459702371\n"
     ]
    },
    {
     "data": {
      "text/plain": [
       "array([ 0.00000000e+00,  2.48574647e-01, -4.53370406e+04, ...,\n",
       "       -3.39065064e+03,  4.56159968e+02, -2.34276247e+03])"
      ]
     },
     "execution_count": 50,
     "metadata": {},
     "output_type": "execute_result"
    }
   ],
   "source": [
    "pridge = Ridge(alpha=0.9).fit(X_ptrain, y_ptrain)\n",
    "y_ppred = pridge.predict(X_ptest)\n",
    "print(f'MAE: {mean_absolute_error(y_ptest, y_ppred)}')\n",
    "print(f'MSE: {mean_squared_error(y_ptest, y_ppred)}')\n",
    "print(f'RMSE: {sqrt(mean_squared_error(y_ptest, y_ppred))}')\n",
    "print(f'MAPE: {sqrt(mean_absolute_percentage_error(y_ptest, y_ppred))}')\n",
    "print(f'R^2: {pridge.score(X_ptest, y_ptest)}')\n",
    "pridge.coef_"
   ]
  },
  {
   "cell_type": "code",
   "execution_count": 51,
   "id": "1b97e609",
   "metadata": {},
   "outputs": [
    {
     "name": "stdout",
     "output_type": "stream",
     "text": [
      "MAE: 1858.5583642239976\n",
      "MSE: 8766491.711450081\n",
      "RMSE: 2960.8261873082115\n",
      "MAPE: 0.9807993800607654\n",
      "R^2: 0.7889672744005792\n"
     ]
    },
    {
     "name": "stderr",
     "output_type": "stream",
     "text": [
      "d:\\jupyter\\Machine Learning\\venv\\lib\\site-packages\\sklearn\\linear_model\\_coordinate_descent.py:631: ConvergenceWarning: Objective did not converge. You might want to increase the number of iterations, check the scale of the features or consider increasing regularisation. Duality gap: 3.042e+10, tolerance: 3.092e+07\n",
      "  model = cd_fast.enet_coordinate_descent(\n"
     ]
    },
    {
     "data": {
      "text/plain": [
       "array([ 0.00000000e+00, -1.03826399e-02, -1.10855156e+02, ...,\n",
       "       -0.00000000e+00,  4.74438878e+02, -0.00000000e+00])"
      ]
     },
     "execution_count": 51,
     "metadata": {},
     "output_type": "execute_result"
    }
   ],
   "source": [
    "plasso = Lasso(alpha=0.9).fit(X_ptrain, y_ptrain)\n",
    "y_ppred = plasso.predict(X_ptest)\n",
    "print(f'MAE: {mean_absolute_error(y_ptest, y_ppred)}')\n",
    "print(f'MSE: {mean_squared_error(y_ptest, y_ppred)}')\n",
    "print(f'RMSE: {sqrt(mean_squared_error(y_ptest, y_ppred))}')\n",
    "print(f'MAPE: {sqrt(mean_absolute_percentage_error(y_ptest, y_ppred))}')\n",
    "print(f'R^2: {plasso.score(X_ptest, y_ptest)}')\n",
    "plasso.coef_"
   ]
  },
  {
   "attachments": {},
   "cell_type": "markdown",
   "id": "4fdde515",
   "metadata": {},
   "source": [
    "# Попытки сделать свой алгоритм"
   ]
  },
  {
   "cell_type": "code",
   "execution_count": 52,
   "id": "db405b52",
   "metadata": {},
   "outputs": [],
   "source": [
    "MyX = np.concatenate((np.ones((X_train.values.shape[0], 1), dtype=np.int64), X_train.values), axis=1)"
   ]
  },
  {
   "cell_type": "code",
   "execution_count": 53,
   "id": "9b3ddb12",
   "metadata": {},
   "outputs": [
    {
     "data": {
      "text/plain": [
       "array([[1.00000e+00, 1.30000e+05, 2.00100e+03, ..., 0.00000e+00,\n",
       "        1.00000e+00, 0.00000e+00],\n",
       "       [1.00000e+00, 2.70000e+05, 1.98800e+03, ..., 0.00000e+00,\n",
       "        0.00000e+00, 0.00000e+00],\n",
       "       [1.00000e+00, 1.80000e+05, 1.98300e+03, ..., 0.00000e+00,\n",
       "        0.00000e+00, 0.00000e+00],\n",
       "       ...,\n",
       "       [1.00000e+00, 8.80000e+04, 2.01600e+03, ..., 1.00000e+00,\n",
       "        1.00000e+00, 1.00000e+00],\n",
       "       [1.00000e+00, 4.22000e+05, 1.99400e+03, ..., 1.00000e+00,\n",
       "        0.00000e+00, 1.00000e+00],\n",
       "       [1.00000e+00, 3.00891e+05, 2.00600e+03, ..., 0.00000e+00,\n",
       "        0.00000e+00, 0.00000e+00]])"
      ]
     },
     "execution_count": 53,
     "metadata": {},
     "output_type": "execute_result"
    }
   ],
   "source": [
    "MyX"
   ]
  },
  {
   "attachments": {},
   "cell_type": "markdown",
   "id": "ac786be4",
   "metadata": {},
   "source": [
    "Аналитическое решение"
   ]
  },
  {
   "cell_type": "markdown",
   "id": "4d14ac47",
   "metadata": {},
   "source": [
    "$$ b=(X^T X)^{-1} X^T Y $$"
   ]
  },
  {
   "cell_type": "code",
   "execution_count": 54,
   "id": "63f6cc5b",
   "metadata": {},
   "outputs": [],
   "source": [
    "b = np.dot(np.dot(np.linalg.inv(np.dot(MyX.T, MyX)), MyX.T), y_train.values)"
   ]
  },
  {
   "cell_type": "code",
   "execution_count": 55,
   "id": "af0bc61e",
   "metadata": {},
   "outputs": [
    {
     "data": {
      "text/plain": [
       "array([-8.35427910e+05, -5.07612679e-03,  3.65336984e+02,  3.56240821e+03,\n",
       "       -2.30160746e+00,  3.09189653e+03,  2.90812139e+20, -1.05233259e+18,\n",
       "        4.15306801e+03, -2.40833605e+02,  1.83909244e+18,  3.48119997e+04,\n",
       "        3.10935857e+04,  3.30990269e+04,  3.14218271e+04,  3.35886650e+04,\n",
       "        3.22619766e+04,  3.51100725e+04,  3.15812338e+04,  3.38954092e+04,\n",
       "        3.12205593e+04,  3.29158879e+04,  2.00047325e+04,  1.28164410e+04,\n",
       "       -2.90812139e+20, -1.78834222e+18,  1.05233259e+18, -2.39992290e+03,\n",
       "        1.05233259e+18, -2.14184626e+03, -2.13087845e+03,  3.71236056e+03,\n",
       "        4.07624579e+03,  1.76912610e+03,  5.33998365e+03,  1.20634583e+03,\n",
       "        1.29924748e+03,  1.53611134e+03,  5.61304448e+02,  1.63552179e+03,\n",
       "       -4.35479619e+01,  1.25411554e+03,  1.74006805e+03,  2.29188022e+03,\n",
       "        1.35633083e+03,  2.04507212e+03])"
      ]
     },
     "execution_count": 55,
     "metadata": {},
     "output_type": "execute_result"
    }
   ],
   "source": [
    "b"
   ]
  },
  {
   "cell_type": "markdown",
   "id": "6231e7f2",
   "metadata": {},
   "source": [
    "$$ y_i = b_0 + b_1x_{1i} + b_2x_{2i}+ \\cdots + b_mx_{mi} + e_i $$"
   ]
  },
  {
   "cell_type": "code",
   "execution_count": 56,
   "id": "50e578db",
   "metadata": {},
   "outputs": [
    {
     "data": {
      "text/plain": [
       "((30792,), (30792, 46), (46,))"
      ]
     },
     "execution_count": 56,
     "metadata": {},
     "output_type": "execute_result"
    }
   ],
   "source": [
    "y_train.shape, MyX.shape, b.shape"
   ]
  },
  {
   "cell_type": "code",
   "execution_count": 58,
   "id": "ee53ddec",
   "metadata": {},
   "outputs": [
    {
     "data": {
      "text/plain": [
       "array([ 7.91114580e+05,  7.83870249e+05, -1.00158237e+18, ...,\n",
       "        8.00933689e+05,  7.96334397e+05,  7.85822527e+05])"
      ]
     },
     "execution_count": 58,
     "metadata": {},
     "output_type": "execute_result"
    }
   ],
   "source": [
    "y_f = np.sum(b[1:46]*X_train.values, axis=1)\n",
    "y_f"
   ]
  },
  {
   "cell_type": "code",
   "execution_count": 59,
   "id": "285777b9",
   "metadata": {},
   "outputs": [
    {
     "data": {
      "text/plain": [
       "(30792,)"
      ]
     },
     "execution_count": 59,
     "metadata": {},
     "output_type": "execute_result"
    }
   ],
   "source": [
    "y_f.shape"
   ]
  },
  {
   "cell_type": "code",
   "execution_count": 60,
   "id": "4419458b",
   "metadata": {},
   "outputs": [
    {
     "data": {
      "text/plain": [
       "3.5031963223883224e+16"
      ]
     },
     "execution_count": 60,
     "metadata": {},
     "output_type": "execute_result"
    }
   ],
   "source": [
    "np.mean(abs(y_train-y_f))"
   ]
  },
  {
   "attachments": {},
   "cell_type": "markdown",
   "id": "e39c95ef",
   "metadata": {},
   "source": [
    "Метод градиентного спуска"
   ]
  },
  {
   "cell_type": "markdown",
   "id": "6794b3fb",
   "metadata": {},
   "source": [
    "$$ Q(\\omega,x) = \\frac{1}{l} \\sum\\limits_{i=1}^l ( \\langle w_i,x_i\\rangle- y_i) ^2 $$\n",
    "$$ Q(w,X) = \\frac{1}{l} || Xw-y ||^2 \\to \\min_{w}$$ \n",
    "$$ w^t = w^{t-1} - \\eta_t \\Delta Q(w^{t-1},X) $$"
   ]
  },
  {
   "cell_type": "code",
   "execution_count": 61,
   "id": "9f3a428c",
   "metadata": {},
   "outputs": [
    {
     "data": {
      "text/plain": [
       "(array([0, 0, 0, 0, 0, 0, 0, 0, 0, 0, 0, 0, 0, 0, 0, 0, 0, 0, 0, 0, 0, 0,\n",
       "        0, 0, 0, 0, 0, 0, 0, 0, 0, 0, 0, 0, 0, 0, 0, 0, 0, 0, 0, 0, 0, 0,\n",
       "        0, 0]),\n",
       " (46,))"
      ]
     },
     "execution_count": 61,
     "metadata": {},
     "output_type": "execute_result"
    }
   ],
   "source": [
    "w = np.array([0 for i in range(len(MyX[0]))])\n",
    "w, w.shape"
   ]
  },
  {
   "cell_type": "code",
   "execution_count": 68,
   "id": "a55c81c6",
   "metadata": {},
   "outputs": [],
   "source": [
    "from copy import deepcopy"
   ]
  },
  {
   "cell_type": "code",
   "execution_count": 69,
   "id": "659ea4e9",
   "metadata": {},
   "outputs": [
    {
     "data": {
      "text/plain": [
       "46"
      ]
     },
     "execution_count": 69,
     "metadata": {},
     "output_type": "execute_result"
    }
   ],
   "source": [
    "w_c = deepcopy(w)\n",
    "l = len(MyX[0])\n",
    "l"
   ]
  },
  {
   "cell_type": "code",
   "execution_count": null,
   "id": "db01e05e",
   "metadata": {},
   "outputs": [],
   "source": [
    "i = 0\n",
    "while np.linalg.norm(w - w_c) > 1e-100 or i < 500:\n",
    "    w_c = deepcopy(w)\n",
    "    w = np.dot(MyX.T, (np.dot(MyX, w_c) - y_train.values))*(0.05/l) - w_c\n",
    "    i += 1"
   ]
  },
  {
   "cell_type": "code",
   "execution_count": 85,
   "id": "336b8ff3",
   "metadata": {},
   "outputs": [
    {
     "data": {
      "text/plain": [
       "array([4.56250576e+93, 1.47314398e+99, 9.12874281e+96, 9.54458745e+93,\n",
       "       3.66837151e+95, 3.30760027e+93, 2.99638848e+89, 2.74164314e+93,\n",
       "       2.46480637e+90, 1.65655064e+93, 1.83430363e+92, 6.63943257e+91,\n",
       "       8.63286549e+92, 5.38928928e+91, 1.76083880e+90, 2.25141022e+92,\n",
       "       4.65767462e+92, 1.33149379e+91, 1.54450499e+93, 4.39612362e+92,\n",
       "       7.46874332e+92, 1.35988269e+92, 2.50397770e+87, 4.51401047e+93,\n",
       "       2.99638848e+89, 1.83430363e+92, 2.53797272e+93, 1.19028163e+89,\n",
       "       2.02400572e+91, 3.28698414e+93, 7.67937916e+92, 3.76887399e+92,\n",
       "       4.06905875e+92, 3.32736067e+92, 2.70194178e+93, 3.41615979e+92,\n",
       "       1.14838274e+93, 2.59198838e+93, 9.38070859e+92, 1.00139121e+93,\n",
       "       1.02818305e+93, 1.34041160e+93, 6.25018104e+92, 9.29553038e+92,\n",
       "       1.64100812e+93, 2.54086642e+93])"
      ]
     },
     "execution_count": 85,
     "metadata": {},
     "output_type": "execute_result"
    }
   ],
   "source": [
    "w_c = deepcopy(w)\n",
    "w = w_c - np.dot(MyX.T, (np.dot(MyX, w_c) - y_train.values))*(0.0000001/l)\n",
    "w"
   ]
  },
  {
   "cell_type": "code",
   "execution_count": 38,
   "id": "b2c5f181",
   "metadata": {},
   "outputs": [
    {
     "data": {
      "text/plain": [
       "array([[1.000e+00, 2.000e+05, 2.005e+03, ..., 0.000e+00, 1.000e+00,\n",
       "        1.000e+00],\n",
       "       [1.000e+00, 2.500e+05, 2.000e+03, ..., 0.000e+00, 1.000e+00,\n",
       "        1.000e+00],\n",
       "       [1.000e+00, 1.020e+05, 2.013e+03, ..., 0.000e+00, 1.000e+00,\n",
       "        1.000e+00],\n",
       "       ...,\n",
       "       [1.000e+00, 1.500e+05, 1.997e+03, ..., 1.000e+00, 1.000e+00,\n",
       "        1.000e+00],\n",
       "       [1.000e+00, 2.700e+05, 2.007e+03, ..., 1.000e+00, 0.000e+00,\n",
       "        1.000e+00],\n",
       "       [1.000e+00, 1.440e+05, 2.015e+03, ..., 1.000e+00, 1.000e+00,\n",
       "        1.000e+00]])"
      ]
     },
     "execution_count": 38,
     "metadata": {},
     "output_type": "execute_result"
    }
   ],
   "source": [
    "MyX = np.concatenate((np.ones((X_train.values.shape[0], 1), dtype=np.int64), X_train.values), axis=1)\n",
    "MyX"
   ]
  },
  {
   "cell_type": "code",
   "execution_count": 39,
   "id": "3b766a05",
   "metadata": {},
   "outputs": [
    {
     "data": {
      "text/plain": [
       "array([0., 0., 0., 0., 0., 0., 0., 0., 0., 0., 0., 0., 0., 0., 0., 0., 0.,\n",
       "       0., 0., 0., 0., 0., 0., 0., 0., 0., 0., 0., 0., 0., 0., 0., 0., 0.,\n",
       "       0., 0., 0., 0., 0., 0., 0., 0., 0., 0., 0., 0.])"
      ]
     },
     "execution_count": 39,
     "metadata": {},
     "output_type": "execute_result"
    }
   ],
   "source": [
    "w = np.array([0 for i in range(len(MyX[0]))], dtype=np.float64)\n",
    "w"
   ]
  },
  {
   "cell_type": "code",
   "execution_count": null,
   "id": "ba1fdf92",
   "metadata": {},
   "outputs": [],
   "source": [
    "MyX[0] * w"
   ]
  },
  {
   "cell_type": "code",
   "execution_count": null,
   "id": "cdafa952",
   "metadata": {},
   "outputs": [],
   "source": [
    "def grad(w, n):\n",
    "    buf = np.array([0 for i in range(len(w))], dtype=np.float64)\n",
    "    for i in range(len(MyX)):\n",
    "        buf += 2*(MyX[i] * w - y_train.values[i])\n",
    "    return buf"
   ]
  },
  {
   "cell_type": "code",
   "execution_count": null,
   "id": "2f65e4f2",
   "metadata": {},
   "outputs": [],
   "source": [
    "grad(w, 0)"
   ]
  },
  {
   "cell_type": "code",
   "execution_count": null,
   "id": "8efdcb46",
   "metadata": {},
   "outputs": [],
   "source": [
    "for i in range(len(w)):\n",
    "    w -= 0.1 * grad(w, i)"
   ]
  },
  {
   "cell_type": "code",
   "execution_count": null,
   "id": "b2dacff0",
   "metadata": {},
   "outputs": [],
   "source": [
    "w"
   ]
  },
  {
   "cell_type": "markdown",
   "id": "f0657d50",
   "metadata": {},
   "source": [
    "## My lr"
   ]
  },
  {
   "cell_type": "code",
   "execution_count": 62,
   "id": "59f6f245",
   "metadata": {},
   "outputs": [],
   "source": [
    "def s_l(w, n):\n",
    "    buf = [0 for i in range(len(w))]\n",
    "    for i in range(len(MyX)):\n",
    "        buf += (MyX[i] * w - y_train.values[i])*MyX[i][n] + 0.5*np.sign(w)\n",
    "    return buf"
   ]
  },
  {
   "cell_type": "code",
   "execution_count": 63,
   "id": "601aff3a",
   "metadata": {},
   "outputs": [],
   "source": [
    "w = np.array([0 for i in range(len(MyX[0]))], dtype=np.float64)\n",
    "for i in range(46):\n",
    "    w -= (1e-14/len(w))*s_l(w, i)"
   ]
  },
  {
   "cell_type": "code",
   "execution_count": 64,
   "id": "d2d85f36",
   "metadata": {},
   "outputs": [
    {
     "data": {
      "text/plain": [
       "array([0.00869767, 0.00866759, 0.00869743, 0.00869767, 0.00869766,\n",
       "       0.00869767, 0.00869767, 0.00869767, 0.00869767, 0.00869767,\n",
       "       0.00869767, 0.00869767, 0.00869767, 0.00869767, 0.00869767,\n",
       "       0.00869767, 0.00869767, 0.00869767, 0.00869767, 0.00869767,\n",
       "       0.00869767, 0.00869767, 0.00869767, 0.00869767, 0.00869767,\n",
       "       0.00869767, 0.00869767, 0.00869767, 0.00869767, 0.00869767,\n",
       "       0.00869767, 0.00869767, 0.00869767, 0.00869767, 0.00869767,\n",
       "       0.00869767, 0.00869767, 0.00869767, 0.00869767, 0.00869767,\n",
       "       0.00869767, 0.00869767, 0.00869767, 0.00869767, 0.00869767,\n",
       "       0.00869767])"
      ]
     },
     "execution_count": 64,
     "metadata": {},
     "output_type": "execute_result"
    }
   ],
   "source": [
    "w"
   ]
  },
  {
   "cell_type": "code",
   "execution_count": 69,
   "id": "1937376f",
   "metadata": {},
   "outputs": [
    {
     "name": "stdout",
     "output_type": "stream",
     "text": [
      "MAE: 5349.941090409201\n",
      "MSE: 69898849.20439668\n",
      "RMSE: 8360.553163780294\n",
      "MAPE: 1.1570904342550954\n",
      "R^2: 0.48303381912364984\n"
     ]
    }
   ],
   "source": [
    "hdhd = np.sum(X_test.values * w[1:len(w)], axis=1)\n",
    "print(f'MAE: {s.MAE(y_test, hdhd)}')\n",
    "print(f'MSE: {s.MSE(y_test, hdhd)}')\n",
    "print(f'RMSE: {s.RMSE(y_test, hdhd)}')\n",
    "print(f'MAPE: {sqrt(s.MAPE(y_test, hdhd))}')\n",
    "print(f'R^2: {s.score(y_test, hdhd)}')"
   ]
  },
  {
   "attachments": {},
   "cell_type": "markdown",
   "id": "0edf3f4f",
   "metadata": {},
   "source": [
    "## From class"
   ]
  },
  {
   "cell_type": "code",
   "execution_count": 15,
   "id": "2b6da9c3",
   "metadata": {},
   "outputs": [],
   "source": [
    "import sys\n",
    "sys.path.insert(0,'..\\src')\n",
    "\n",
    "import numpy as np\n",
    "\n",
    "from LRwR import LRwR"
   ]
  },
  {
   "cell_type": "code",
   "execution_count": 16,
   "id": "c922f64e",
   "metadata": {},
   "outputs": [],
   "source": [
    "MyRegr = LRwR()"
   ]
  },
  {
   "cell_type": "code",
   "execution_count": 17,
   "id": "00431431",
   "metadata": {},
   "outputs": [],
   "source": [
    "MyRegr.fit(X_train, y_train, k=1e-14)"
   ]
  },
  {
   "cell_type": "code",
   "execution_count": 18,
   "id": "62983289",
   "metadata": {},
   "outputs": [
    {
     "data": {
      "text/plain": [
       "array([0.00867225, 0.00864231, 0.008672  , 0.00867225, 0.00867223,\n",
       "       0.00867225, 0.00867225, 0.00867225, 0.00867225, 0.00867225,\n",
       "       0.00867225, 0.00867225, 0.00867225, 0.00867225, 0.00867225,\n",
       "       0.00867225, 0.00867225, 0.00867225, 0.00867225, 0.00867225,\n",
       "       0.00867225, 0.00867225, 0.00867225, 0.00867225, 0.00867225,\n",
       "       0.00867225, 0.00867225, 0.00867225, 0.00867225, 0.00867225,\n",
       "       0.00867225, 0.00867225, 0.00867225, 0.00867225, 0.00867225,\n",
       "       0.00867225, 0.00867225, 0.00867225, 0.00867225, 0.00867225,\n",
       "       0.00867225, 0.00867225, 0.00867225, 0.00867225, 0.00867225,\n",
       "       0.00867225])"
      ]
     },
     "execution_count": 18,
     "metadata": {},
     "output_type": "execute_result"
    }
   ],
   "source": [
    "MyRegr.w"
   ]
  },
  {
   "cell_type": "code",
   "execution_count": 19,
   "id": "a7e116ed",
   "metadata": {},
   "outputs": [
    {
     "data": {
      "text/plain": [
       "array([1512.97094852, 3475.10858659,  294.61354883, ..., 3476.19868995,\n",
       "       3129.89383162, 3043.96326451])"
      ]
     },
     "execution_count": 19,
     "metadata": {},
     "output_type": "execute_result"
    }
   ],
   "source": [
    "MyRegr.predict(X_test)"
   ]
  },
  {
   "cell_type": "code",
   "execution_count": 74,
   "id": "dd27102e",
   "metadata": {},
   "outputs": [
    {
     "data": {
      "text/plain": [
       "((7699, 45), (46,))"
      ]
     },
     "execution_count": 74,
     "metadata": {},
     "output_type": "execute_result"
    }
   ],
   "source": [
    "X_test.shape, MyRegr.w.shape"
   ]
  },
  {
   "cell_type": "code",
   "execution_count": 64,
   "id": "0c4eb483",
   "metadata": {},
   "outputs": [
    {
     "data": {
      "text/plain": [
       "(7699,)"
      ]
     },
     "execution_count": 64,
     "metadata": {},
     "output_type": "execute_result"
    }
   ],
   "source": [
    "np.sum(X_test.values * MyRegr.w[1:46], axis=1).shape"
   ]
  },
  {
   "attachments": {},
   "cell_type": "markdown",
   "id": "38b32fee",
   "metadata": {},
   "source": [
    "# Scoring"
   ]
  },
  {
   "cell_type": "code",
   "execution_count": 20,
   "id": "f6de20d0",
   "metadata": {},
   "outputs": [],
   "source": [
    "from Scoring import Scoring"
   ]
  },
  {
   "cell_type": "code",
   "execution_count": 21,
   "id": "b145f84e",
   "metadata": {},
   "outputs": [],
   "source": [
    "MyY_p = MyRegr.predict(X_test)"
   ]
  },
  {
   "cell_type": "code",
   "execution_count": 22,
   "id": "42736cf3",
   "metadata": {},
   "outputs": [
    {
     "data": {
      "text/plain": [
       "(7699,)"
      ]
     },
     "execution_count": 22,
     "metadata": {},
     "output_type": "execute_result"
    }
   ],
   "source": [
    "MyY_p.shape"
   ]
  },
  {
   "cell_type": "code",
   "execution_count": 23,
   "id": "14142656",
   "metadata": {},
   "outputs": [],
   "source": [
    "s = Scoring()"
   ]
  },
  {
   "cell_type": "code",
   "execution_count": 77,
   "id": "7e3a2a52",
   "metadata": {},
   "outputs": [
    {
     "data": {
      "text/plain": [
       "((30792,), (7699,))"
      ]
     },
     "execution_count": 77,
     "metadata": {},
     "output_type": "execute_result"
    }
   ],
   "source": [
    "y_train.shape, MyY_p.shape"
   ]
  },
  {
   "cell_type": "code",
   "execution_count": 24,
   "id": "24e33fd4",
   "metadata": {},
   "outputs": [
    {
     "name": "stdout",
     "output_type": "stream",
     "text": [
      "MAE: 5381.238274326114\n",
      "MSE: 71350879.5110576\n",
      "RMSE: 8446.944980941784\n",
      "MAPE: 1.0093618311732897\n",
      "R^2: 0.4965189941484398\n"
     ]
    }
   ],
   "source": [
    "from math import sqrt\n",
    "\n",
    "print(f'MAE: {s.MAE(y_test, MyY_p)}')\n",
    "print(f'MSE: {s.MSE(y_test, MyY_p)}')\n",
    "print(f'RMSE: {s.RMSE(y_test, MyY_p)}')\n",
    "print(f'MAPE: {sqrt(s.MAPE(y_test, MyY_p))}')\n",
    "print(f'R^2: {s.score(y_test, MyY_p)}')"
   ]
  },
  {
   "cell_type": "code",
   "execution_count": null,
   "id": "a9ec5bb5",
   "metadata": {},
   "outputs": [],
   "source": []
  }
 ],
 "metadata": {
  "kernelspec": {
   "display_name": "Python 3 (ipykernel)",
   "language": "python",
   "name": "python3"
  },
  "language_info": {
   "codemirror_mode": {
    "name": "ipython",
    "version": 3
   },
   "file_extension": ".py",
   "mimetype": "text/x-python",
   "name": "python",
   "nbconvert_exporter": "python",
   "pygments_lexer": "ipython3",
   "version": "3.10.10"
  },
  "vscode": {
   "interpreter": {
    "hash": "8d09d55f6fb2e0697fc269a36d6778be516d8b444855a77f5bfc88f88dd6bd1c"
   }
  }
 },
 "nbformat": 4,
 "nbformat_minor": 5
}
